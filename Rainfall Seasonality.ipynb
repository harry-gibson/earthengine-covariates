{
 "cells": [
  {
   "cell_type": "code",
   "execution_count": 2,
   "metadata": {
    "collapsed": false
   },
   "outputs": [],
   "source": [
    "import math"
   ]
  },
  {
   "cell_type": "code",
   "execution_count": 3,
   "metadata": {
    "collapsed": true
   },
   "outputs": [],
   "source": [
    "import ee\n",
    "ee.Initialize()"
   ]
  },
  {
   "cell_type": "code",
   "execution_count": 4,
   "metadata": {
    "collapsed": false
   },
   "outputs": [],
   "source": [
    "chirpsDaily = ee.ImageCollection(\"UCSB-CHG/CHIRPS/DAILY\")\n",
    "chirpsPentads = ee.ImageCollection(\"UCSB-CHG/CHIRPS/PENTAD\")\n",
    "\n",
    "chirpsInUse = chirpsPentads"
   ]
  },
  {
   "cell_type": "code",
   "execution_count": 5,
   "metadata": {
    "collapsed": true
   },
   "outputs": [],
   "source": [
    "CLOUDBUCKET = \"ee-oxford-upload\""
   ]
  },
  {
   "cell_type": "code",
   "execution_count": 6,
   "metadata": {
    "collapsed": false
   },
   "outputs": [
    {
     "data": {
      "text/plain": [
       "[1.0, 2.0, 3.0]"
      ]
     },
     "execution_count": 6,
     "metadata": {},
     "output_type": "execute_result"
    }
   ],
   "source": [
    "dependentVar = \"precipitation\"\n",
    "nCycles = 3\n",
    "cycles = ee.List.sequence(1, nCycles)\n",
    "cycles.getInfo()"
   ]
  },
  {
   "cell_type": "code",
   "execution_count": 65,
   "metadata": {
    "collapsed": false
   },
   "outputs": [],
   "source": [
    "cosNames = [\"cos_\" + str(i) for i in range(1, nCycles+1)]\n",
    "sinNames = [\"sin_\" + str(i) for i in range(1, nCycles+1)]\n",
    "independents = ['offset', 'slope']\n",
    "independents.extend(cosNames)\n",
    "independents.extend(sinNames)"
   ]
  },
  {
   "cell_type": "code",
   "execution_count": 66,
   "metadata": {
    "collapsed": false
   },
   "outputs": [
    {
     "data": {
      "text/plain": [
       "['offset', 'slope', 'cos_1', 'cos_2', 'cos_3', 'sin_1', 'sin_2', 'sin_3']"
      ]
     },
     "execution_count": 66,
     "metadata": {},
     "output_type": "execute_result"
    }
   ],
   "source": [
    "independents"
   ]
  },
  {
   "cell_type": "code",
   "execution_count": 36,
   "metadata": {
    "collapsed": true
   },
   "outputs": [],
   "source": [
    "def listBandNames(img):\n",
    "    u =  ee.Image(fittedModel.first()).bandNames().getInfo()\n",
    "    return[str(uname) for uname in u]    "
   ]
  },
  {
   "cell_type": "code",
   "execution_count": 73,
   "metadata": {
    "collapsed": false
   },
   "outputs": [],
   "source": [
    "# adds constant bands to an image, one for the time of year of this image \n",
    "# in terms of radians and another with constant value 1\n",
    "def addDependents(image):\n",
    "    years = image.date().difference('2000-01-01', 'year');\n",
    "    timeRadians = ee.Image(years.multiply(2 * math.pi)).rename(['slope'])\n",
    "    constant = ee.Image(1).rename(['offset'])\n",
    "    return image.addBands(constant).addBands(timeRadians.float())\n",
    "\n",
    "# adds harmonic bands to the image, i.e. the cos(t) and sin(t) and cos(2t) and sin(2t) etc\n",
    "# of the image's time - i.e. these bands are again each constant values across an image\n",
    "def addHarmonics(frequencies):\n",
    "    def helper(image):\n",
    "        # make a constant value image with one band for each member of the frequencies list\n",
    "        # note that frequencies will be available to this returned function via a closure\n",
    "        freqsImg = ee.Image.constant(frequencies)\n",
    "        time = ee.Image(image).select('slope')\n",
    "        cosines = time.multiply(freqsImg).cos().rename(cosNames)\n",
    "        sines = time.multiply(freqsImg).sin().rename(sinNames)\n",
    "        return image.addBands(cosines).addBands(sines)\n",
    "    return helper\n",
    "\n",
    "addHarmonicsFn = addHarmonics(cycles)"
   ]
  },
  {
   "cell_type": "code",
   "execution_count": 75,
   "metadata": {
    "collapsed": false
   },
   "outputs": [],
   "source": [
    "chirpsWithHarmonics = chirpsInUse.map(addDependents).map(addHarmonicsFn)"
   ]
  },
  {
   "cell_type": "code",
   "execution_count": 76,
   "metadata": {
    "collapsed": true
   },
   "outputs": [],
   "source": [
    "# not independents.append(dependentVar) - do this instead to make a copy so we \n",
    "# still have independents unmodified\n",
    "regressionBandList = independents + [dependentVar]"
   ]
  },
  {
   "cell_type": "code",
   "execution_count": 77,
   "metadata": {
    "collapsed": false
   },
   "outputs": [],
   "source": [
    "# select the bands: this is to ensure they're in the correct order as the reducer will expect the \n",
    "# independents to be in order and followed by the dependents, in the numbers specified\n",
    "orderedBands = chirpsWithHarmonics.select(regressionBandList)\n",
    "harmonicTrends = orderedBands.reduce(ee.Reducer.linearRegression(len(independents), 1))"
   ]
  },
  {
   "cell_type": "markdown",
   "metadata": {},
   "source": [
    "The harmonicTrends output from the reducer is a two-banded array image, that is, every pixel in each band is an array with dimensions (numX, numY) i.e. number of independents * number of dependents, i.e. in this case 8x1 (one constant, one time band, 3 each cos and sin bands)\n",
    "\n",
    "The first band represents the coefficients of the linear regression and the second represents the rms of the residuals.\n",
    "\n",
    "Array images are quite awkward so first off make it back into a \"normal\" image where each pixel in each band has one value"
   ]
  },
  {
   "cell_type": "code",
   "execution_count": 78,
   "metadata": {
    "collapsed": true
   },
   "outputs": [],
   "source": [
    "# Turn the array image into an image with one band for each coefficient, i.e. 8 bands\n",
    "harmonicTrendCoefficients = harmonicTrends.select('coefficients').arrayProject([0]).arrayFlatten([independents])"
   ]
  },
  {
   "cell_type": "markdown",
   "metadata": {},
   "source": [
    "Now apply the model by multiplying the independent variables by their coefficients and adding them; add the fitted result prediction as a new band to the same image collection"
   ]
  },
  {
   "cell_type": "code",
   "execution_count": 79,
   "metadata": {
    "collapsed": false
   },
   "outputs": [
    {
     "name": "stdout",
     "output_type": "stream",
     "text": [
      "['precipitation', 'offset', 'slope', 'cos_1', 'cos_2', 'cos_3', 'sin_1', 'sin_2', 'sin_3', 'fitted']\n"
     ]
    }
   ],
   "source": [
    "# Add the result to the main image collection so now we have everything in that one collection\n",
    "fittedModel = chirpsWithHarmonics.map(\n",
    "    lambda img: img.addBands(\n",
    "        img.select(independents).multiply(harmonicTrendCoefficients).reduce('sum').rename(['fitted'])))\n",
    "print(listBandNames(fittedModel.first()))"
   ]
  },
  {
   "cell_type": "code",
   "execution_count": 18,
   "metadata": {
    "collapsed": false
   },
   "outputs": [],
   "source": [
    "nationalBoundaries = ee.FeatureCollection(\"USDOS/LSIB/2013\")\n",
    "ISO3 = \"BWA\";\n",
    "geoms = nationalBoundaries.filterMetadata(\"iso_alpha3\", \"equals\", ISO3);\n",
    "bufferedboxes = geoms.map(lambda f : f.bounds().buffer(10000).bounds())\n",
    "roi = bufferedboxes.union(ee.ErrorMargin(10));"
   ]
  },
  {
   "cell_type": "code",
   "execution_count": 38,
   "metadata": {
    "collapsed": false
   },
   "outputs": [
    {
     "name": "stdout",
     "output_type": "stream",
     "text": [
      "['precipitation', 'constant', 't', 'cos_1', 'cos_2', 'cos_3', 'sin_1', 'sin_2', 'sin_3', 'fitted']\n"
     ]
    }
   ],
   "source": [
    "s = fittedModel.select(['fitted', 'precipitation'])#, roi, ee.Reducer.mean(), 10000)\n",
    "print(listBandNames(s.first()))"
   ]
  },
  {
   "cell_type": "code",
   "execution_count": 31,
   "metadata": {
    "collapsed": false
   },
   "outputs": [],
   "source": [
    "test = ee.Image(s.first())"
   ]
  },
  {
   "cell_type": "code",
   "execution_count": 58,
   "metadata": {
    "collapsed": false
   },
   "outputs": [
    {
     "data": {
      "text/plain": [
       "{u'fitted': 14.240612458246016, u'precipitation': 4.43393421765722}"
      ]
     },
     "execution_count": 58,
     "metadata": {},
     "output_type": "execute_result"
    }
   ],
   "source": [
    "test.reduceRegion(ee.Reducer.mean(), roi, 10000).getInfo()"
   ]
  },
  {
   "cell_type": "code",
   "execution_count": 61,
   "metadata": {
    "collapsed": false
   },
   "outputs": [],
   "source": [
    "independents[1]='offset'"
   ]
  },
  {
   "cell_type": "code",
   "execution_count": 62,
   "metadata": {
    "collapsed": false
   },
   "outputs": [
    {
     "data": {
      "text/plain": [
       "['constant', 'offset', 'cos_1', 'cos_2', 'cos_3', 'sin_1', 'sin_2', 'sin_3']"
      ]
     },
     "execution_count": 62,
     "metadata": {},
     "output_type": "execute_result"
    }
   ],
   "source": [
    "independents"
   ]
  },
  {
   "cell_type": "code",
   "execution_count": null,
   "metadata": {
    "collapsed": true
   },
   "outputs": [],
   "source": []
  },
  {
   "cell_type": "code",
   "execution_count": 42,
   "metadata": {
    "collapsed": false
   },
   "outputs": [
    {
     "name": "stdout",
     "output_type": "stream",
     "text": [
      "('cos_1', 'sin_1', '1')\n",
      "('cos_2', 'sin_2', '2')\n",
      "('cos_3', 'sin_3', '3')\n"
     ]
    }
   ],
   "source": [
    "for cName, sName in zip(cosNames, sinNames):\n",
    "    phaseNum = cName[-1:]\n",
    "    cosBand = harmonicTrendCoefficients.select(cName)\n",
    "    sinBand = harmonicTrendCoefficients.select(sName)\n",
    "    # magnitude depends on the scale of the source data really, not appropriate to attempt to scale it \n",
    "    # withoug assessing the max and min values across a ROI\n",
    "    cycleN_Magnitude = cosBand.hypot(sinBand).rename(['mag_' + phaseNum])\n",
    "    # phase is by definition between -pi and +pi so we can scale that to 0-1 for a time-of-year of peak\n",
    "    cycleN_Phase = sinBand.atan2(cosBand).unitScale(-math.pi, math.pi).rename(['phase_' + phaseNum])\n",
    "    \n",
    "    "
   ]
  },
  {
   "cell_type": "code",
   "execution_count": 43,
   "metadata": {
    "collapsed": false
   },
   "outputs": [],
   "source": [
    "cosBand = harmonicTrendCoefficients.select(\"cos_1\")\n",
    "sinBand = harmonicTrendCoefficients.select(\"sin_1\")\n",
    "cycleN_Magnitude = cosBand.hypot(sinBand).multiply(5).rename(['mag_1'])"
   ]
  },
  {
   "cell_type": "code",
   "execution_count": 55,
   "metadata": {
    "collapsed": false
   },
   "outputs": [
    {
     "data": {
      "text/plain": [
       "{u'mag_1_max': 78.72957107399895, u'mag_1_min': 10.288261478141603}"
      ]
     },
     "execution_count": 55,
     "metadata": {},
     "output_type": "execute_result"
    }
   ],
   "source": [
    "cycleN_Magnitude.reduceRegion(ee.Reducer.minMax(), roi, 10000, 'EPSG:4326').getInfo()"
   ]
  },
  {
   "cell_type": "code",
   "execution_count": 56,
   "metadata": {
    "collapsed": false
   },
   "outputs": [
    {
     "data": {
      "text/plain": [
       "{u'cos_1_max': 15.222657203674316, u'cos_1_min': 1.5761271715164185}"
      ]
     },
     "execution_count": 56,
     "metadata": {},
     "output_type": "execute_result"
    }
   ],
   "source": [
    "cosBand.reduceRegion(ee.Reducer.minMax(), roi, 10000, 'EPSG:4326').getInfo()"
   ]
  },
  {
   "cell_type": "code",
   "execution_count": 57,
   "metadata": {
    "collapsed": false
   },
   "outputs": [
    {
     "data": {
      "text/plain": [
       "{u'sin_1_max': 5.055975437164307, u'sin_1_min': -1.4135379791259766}"
      ]
     },
     "execution_count": 57,
     "metadata": {},
     "output_type": "execute_result"
    }
   ],
   "source": [
    "sinBand.reduceRegion(ee.Reducer.minMax(), roi, 10000, 'EPSG:4326').getInfo()"
   ]
  },
  {
   "cell_type": "code",
   "execution_count": 16,
   "metadata": {
    "collapsed": false
   },
   "outputs": [
    {
     "data": {
      "text/plain": [
       "[1, 2, 3]"
      ]
     },
     "execution_count": 16,
     "metadata": {},
     "output_type": "execute_result"
    }
   ],
   "source": [
    "l.getInfo()"
   ]
  },
  {
   "cell_type": "code",
   "execution_count": 40,
   "metadata": {
    "collapsed": true
   },
   "outputs": [],
   "source": [
    "import math\n",
    "\n",
    "def unpack(thelist):\n",
    "    unpacked = []\n",
    "    for i in thelist:\n",
    "        unpacked.append(i[0])\n",
    "        unpacked.append(i[1])\n",
    "    return unpacked\n",
    "\n",
    "# bbox if specified must be a list of 4 coords [xmin, ymin, xmax, ymax]\n",
    "def buildExtractionParams(iso3=None, bbox=None, \n",
    "                          metresResolution=None, pixPerDegreeResolution=None):\n",
    "    # this works out to be a boolean xor test\n",
    "    if (iso3 is not None) == (bbox is not None):\n",
    "        raise ValueError(\"either ISO3 OR a bounding box must be specified but not both\")\n",
    "    if (metresResolution is not None) == (pixPerDegreeResolution is not None):\n",
    "        raise ValueError(\"either a pixel resolution in metres or in exact pixels per degree must be specified but not both\")\n",
    "\n",
    "    output = {\n",
    "        #image, description, bucket, fileNamePrefix, maxPixels, region, dimensions OR scale, crs\n",
    "        'crs': 'EPSG:4326',\n",
    "        'maxPixels': 400000000,\n",
    "        'bucket': CLOUDBUCKET\n",
    "    }\n",
    "    \n",
    "    if iso3 is not None:\n",
    "        # Get a geometry for the area of interest \n",
    "        geoms = nationalBoundaries.filterMetadata(\"iso_alpha3\", \"equals\", ISO3_TO_EXPORT);\n",
    "        bufferedboxes = geoms.map(lambda f: (f.bounds().buffer(10000).bounds()))\n",
    "  \n",
    "        roi = bufferedboxes.union(ee.ErrorMargin(10)).first()\n",
    "        #https://groups.google.com/d/msg/google-earth-engine-developers/TViMuO3ObeM/cpNNg-eMDAAJ\n",
    "        roiCoordsBizarrelyRequired = combinedboxes.getInfo()['geometry']['coordinates']\n",
    "    else:\n",
    "        roi = ee.Geometry.Rectangle(bbox)\n",
    "        # the export call needs a json-serializable object, not an actual ee geometry object, this is different from JS i think\n",
    "        roiCoordsBizarrelyRequired = roi.getInfo()['coordinates']\n",
    "    output['region_geom'] = roi\n",
    "    output['region'] = roiCoordsBizarrelyRequired\n",
    "    if metresResolution is not None:\n",
    "        output['scale'] = metresResolution\n",
    "    else:\n",
    "        if bbox is None:\n",
    "            # we need to get the xmin, xmax, ymin, ymax coords from the country geometry object, this seems to be \n",
    "            # bizarrely difficult unless i am missing something\n",
    "            # create a flat list of [x, y, x1, y1, x2, y2, ...]\n",
    "            unpackedCoords = unpack(roiCoordsBizarrelyRequired[0])\n",
    "            xCoords = unpackedCoords[::2]\n",
    "            yCoords = unpackedCoords[1:][::2]\n",
    "            xmin = min(xCoords)\n",
    "            xmax = max(xCoords)\n",
    "            ymin = min(yCoords)\n",
    "            ymax = max(yCoords)\n",
    "        else:\n",
    "            xmin, ymin, xmax, ymax = bbox\n",
    "        xDimFrac = (xmax-xmin) * pixPerDegreeResolution\n",
    "        yDimFrac = math.ceil((ymax-ymin) * pixPerDegreeResolution)\n",
    "        if (int(xDimFrac) != xDimFrac) or (int(yDimFrac)!= yDimFrac):\n",
    "            print(\"Warning - non integer number of pixels fits, will round up\")\n",
    "        xDim = int(math.ceil(xDimFrac))\n",
    "        yDim = int(math.ceil(yDimFrac))\n",
    "        dimensionsString = str(xDim)+\"x\"+str(yDim)\n",
    "        output['dimensions'] = dimensionsString\n",
    "    return output\n",
    "\n",
    "# call the export routine; same function whichever way we are defining the output size\n",
    "def exportFunction(prebakedParams, prefix, description, image):\n",
    "    # copy the input so it isn't modified (pass-by-reference), just in case of confusion - this\n",
    "    # won't make a copy of the region as that's a list but we're not going to change that so \n",
    "    # it doesn't really matter\n",
    "    exportParams=prebakedParams.copy()\n",
    "    exportParams['image']=image\n",
    "    exportParams['fileNamePrefix']=prefix\n",
    "    exportParams['description']=description\n",
    "    task = ee.batch.Export.image.toCloudStorage(**exportParams)\n",
    "    return task"
   ]
  },
  {
   "cell_type": "code",
   "execution_count": null,
   "metadata": {
    "collapsed": true
   },
   "outputs": [],
   "source": []
  }
 ],
 "metadata": {
  "kernelspec": {
   "display_name": "Python 2",
   "language": "python",
   "name": "python2"
  },
  "language_info": {
   "codemirror_mode": {
    "name": "ipython",
    "version": 2
   },
   "file_extension": ".py",
   "mimetype": "text/x-python",
   "name": "python",
   "nbconvert_exporter": "python",
   "pygments_lexer": "ipython2",
   "version": "2.7.14"
  }
 },
 "nbformat": 4,
 "nbformat_minor": 2
}
