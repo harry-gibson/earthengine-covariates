{
 "cells": [
  {
   "cell_type": "markdown",
   "metadata": {},
   "source": [
    "#  Earth Engine CHAI hi-res covariate extraction script"
   ]
  },
  {
   "cell_type": "markdown",
   "metadata": {},
   "source": [
    "This notebook contains code to extract certain covariates from Earth Engine for CHAI modelling work by/for Kate Battle.\n",
    "\n",
    "This is because some of her models require data at a higher resolution than the high-quality gapfilled data we already hold from sources such as MODIS. \n",
    "\n",
    "The data have been requested at 100m resolution where possible and this means using a data source such as Landsat. Here, we extract several indices from Landsat 8 imagery: EVI, NDVI, Tasselled Cap Wetness/Greenness/Brightness, and Land Surface Temperature estimates based separately on B10 and B11 (with emissivity from MODIS). \n",
    "\n",
    "We also extract rainfall from CHIRPS and elevation from SRTM and Hydrosheds. Rainfall and CHIRPS are at a coarser resolution than the 100m we are using so these end up being upsampled rather than downsampled as for Landsat.\n",
    "\n",
    "The code here only extracts the data from Earth Engine - it doesn't perform any enhancements such as gapfilling."
   ]
  },
  {
   "cell_type": "markdown",
   "metadata": {},
   "source": [
    "### Setup\n",
    "\n",
    "To run this code you need to have the Earth Engine Python API installed, configured, authenticated, and available to the Python interpreter you're using as a notebook server. \n",
    "\n",
    "First you need a google account that's whitelisted to use Earth Engine. This is straightforward - just send a request using the links on the Earth Engine homepage (and your own Google account).\n",
    "\n",
    "Next, instructions for installing and authenticating the API  manually are here:\n",
    "https://developers.google.com/earth-engine/python_install_manual. Also see here for some further instructions on authorisation: https://github.com/google/earthengine-api/blob/master/python/examples/ipynb/authorize_notebook_server.ipynb\n",
    "\n",
    "Or you can use a hosted or a local Docker deployment with everything set up. Instructions here: https://developers.google.com/earth-engine/python_install\n",
    "\n"
   ]
  },
  {
   "cell_type": "markdown",
   "metadata": {},
   "source": [
    "#### Load and test the API"
   ]
  },
  {
   "cell_type": "code",
   "execution_count": null,
   "metadata": {
    "collapsed": true
   },
   "outputs": [],
   "source": [
    "# Attempt to load the EE API\n",
    "import ee\n",
    "ee.Initialize()"
   ]
  },
  {
   "cell_type": "code",
   "execution_count": null,
   "metadata": {
    "collapsed": false
   },
   "outputs": [],
   "source": [
    "# Test the API setup - if this doesn't generate an error then you're good to go\n",
    "image = ee.Image('srtm90_v4')\n",
    "print(image.getInfo())"
   ]
  },
  {
   "cell_type": "code",
   "execution_count": null,
   "metadata": {
    "collapsed": false
   },
   "outputs": [],
   "source": [
    "ee.__version__"
   ]
  },
  {
   "cell_type": "markdown",
   "metadata": {},
   "source": [
    "#### Open the Earth Engine datasets we'll be using\n",
    "\n",
    "We're using Landsat 8, which is available from mid 2013 onwards. \n",
    "\n",
    "These were originally available in EE in a different collection to that which is now maintained: the raw images used to be in LC8/L1T but they are now in LC08/C01/T1.\n",
    "\n",
    "Also we experimented with using the TOA datasets (originally LC8_L1T_TOA, now LC08/C01/T1_TOA). The TOA data are stored with float datatypes, as the conversion from the raw DN is done as part of the TOA conversion process. \n",
    "\n",
    "However on further reading, the Earth Engine SimpleComposite algorithm we are using already applies TOA conversion as part of its work, which includes converting the thermal B10/B11 bands to brightness temperature in Kelvin. So, we don't need to do anything else and should just use the raw data. \n",
    "\n",
    "https://developers.google.com/earth-engine/landsat#landsat-collection-structure"
   ]
  },
  {
   "cell_type": "code",
   "execution_count": null,
   "metadata": {
    "collapsed": true
   },
   "outputs": [],
   "source": [
    "# Landsat 8 - only available from 2014 onwards\n",
    "# the orthorectified collections: deprecated\n",
    "#ls8_toa_old = ee.ImageCollection(\"LANDSAT/LC8_L1T_TOA\")\n",
    "#ls8_raw_old = ee.ImageCollection(\"LANDSAT/LC8_L1T\")\n",
    "\n",
    "# ls8_toa_flt = ee.ImageCollection(\"LANDSAT/LC08/C01/T1_TOA\")\n",
    "#def toInt(img):\n",
    "#    return img.multiply(65536.0).int16()\n",
    "#ls8_toa_new = ls8_toa_flt.map(toInt);\n",
    "ls8_raw_new = ee.ImageCollection(\"LANDSAT/LC08/C01/T1\")\n"
   ]
  },
  {
   "cell_type": "code",
   "execution_count": null,
   "metadata": {
    "collapsed": true
   },
   "outputs": [],
   "source": [
    "ls8_to_use = ls8_raw_new"
   ]
  },
  {
   "cell_type": "markdown",
   "metadata": {},
   "source": [
    "We will get emissivity (for the estimation of LST) from the MODIS LST product - present at 1km resolution. We also earlier tried mapping emissivity values to landcover classes from the MODIS landcover product; this is now redundant. "
   ]
  },
  {
   "cell_type": "code",
   "execution_count": null,
   "metadata": {
    "collapsed": true
   },
   "outputs": [],
   "source": [
    "\n",
    "# Emissivity and modis landcover are used in the estimation of LST from brightness temp\n",
    "# asterEmis = ee.Image(\"NASA/ASTER_GED/AG100_003\")\n",
    "modis_landcover = ee.ImageCollection(\"MODIS/051/MCD12Q1\")\n",
    "modis_lst = ee.ImageCollection(\"MODIS/006/MOD11A2\")\n"
   ]
  },
  {
   "cell_type": "markdown",
   "metadata": {},
   "source": [
    "We will get rainfall from CHIRPS; this is stored daily and 5-daily (pentads)"
   ]
  },
  {
   "cell_type": "code",
   "execution_count": null,
   "metadata": {
    "collapsed": true
   },
   "outputs": [],
   "source": [
    "# CHIRPS rainfall\n",
    "chirpsP = ee.ImageCollection(\"UCSB-CHG/CHIRPS/PENTAD\")\n",
    "chirps = ee.ImageCollection(\"UCSB-CHG/CHIRPS/DAILY\")"
   ]
  },
  {
   "cell_type": "markdown",
   "metadata": {},
   "source": [
    "Three sources of elevation: hydrosheds is of better quality but coarser resolution than SRTM. Alos-DSM is from a different source altogether and very strong reputation, but it is a DSM not a DTM"
   ]
  },
  {
   "cell_type": "code",
   "execution_count": null,
   "metadata": {
    "collapsed": true
   },
   "outputs": [],
   "source": [
    "# Hydrosheds DTM is gapfilled and corrected relative to the raw SRTM\n",
    "elevHydrosheds100m = ee.Image(\"WWF/HydroSHEDS/03VFDEM\")\n",
    "elevSRTM30m = ee.Image(\"USGS/SRTMGL1_003\")\n",
    "# alos DSM in EE is derived from 5m data and has bands for this resampling by both \"AVErage\" and \"MEDian\"\n",
    "elevAlos = ee.Image(\"JAXA/ALOS/AW3D30_V1_1\").select(\"MED\")"
   ]
  },
  {
   "cell_type": "markdown",
   "metadata": {},
   "source": [
    "Import a set of national boundaries to be optionally used to define the ROI for extraction based on an ISO3 code"
   ]
  },
  {
   "cell_type": "code",
   "execution_count": null,
   "metadata": {
    "collapsed": true
   },
   "outputs": [],
   "source": [
    "# Not the best set of national boundaries but the only one I can find already in EE and ok for a bbox\n",
    "nationalBoundaries = ee.FeatureCollection(\"USDOS/LSIB/2013\")"
   ]
  },
  {
   "cell_type": "markdown",
   "metadata": {},
   "source": [
    "#### Configure what we are going to extract\n",
    "Landsat 8 is available from mid 2013.\n",
    "\n",
    "On some occasions we want to extract a synoptic file over the period of interest, other times we want one file per year.\n",
    "\n",
    "In either case, each output file can be comprised of the best-available data for the whole relevant period, or from the mean of four seasonal intermediate files.\n",
    "\n",
    "Run this cell to configure the years and how they are flattened"
   ]
  },
  {
   "cell_type": "code",
   "execution_count": null,
   "metadata": {
    "collapsed": true
   },
   "outputs": [],
   "source": [
    "# Specify the years from which to harvest landsat 8 data, all the data from these years will be used \n",
    "# to create th seasonal composites which are then averaged\n",
    "yrStart = 2014\n",
    "yrEnd = 2018\n",
    "\n",
    "# Specify whether to output a file for each year in the range or one averaged file\n",
    "summariseToSynoptic = True\n",
    "\n",
    "# Specify whether to generate a seasonally-balanced mean i.e. do a composite for each season then take their average\n",
    "# Should help reduce seasonally-biased cloud cover but requires more data (enough to produce a meaningful cloudfree composite \n",
    "# for each season), which may not be available\n",
    "seasonalBalance = True"
   ]
  },
  {
   "cell_type": "markdown",
   "metadata": {},
   "source": [
    "Choose which of the covariates to do - e.g. no point re-doing elevation if the region hasn't changed, as it's a static variable"
   ]
  },
  {
   "cell_type": "code",
   "execution_count": null,
   "metadata": {
    "collapsed": true
   },
   "outputs": [],
   "source": [
    "RUN_ELEV_SRTM = False\n",
    "RUN_ELEV_HYDROSHEDS = False\n",
    "RUN_ELEV_ALOS = False\n",
    "RUN_CHIRPS = True\n",
    "RUN_REFLECTANCE_INDICES = True\n",
    "RUN_LST_ESTIMATES = True"
   ]
  },
  {
   "cell_type": "markdown",
   "metadata": {},
   "source": [
    "Specify the name of the cloud storage bucket where the exports should be saved. The user logged into Earth Engine must have write access to this bucket."
   ]
  },
  {
   "cell_type": "code",
   "execution_count": null,
   "metadata": {
    "collapsed": true
   },
   "outputs": [],
   "source": [
    "\n",
    "# Use a different cloud storage bucket if you need to.\n",
    "CLOUDBUCKET = \"ee-oxford-upload\""
   ]
  },
  {
   "cell_type": "markdown",
   "metadata": {},
   "source": [
    "The export function will need a copy of the region of interest which (in the python API, not so in the Javascript one) must be a client-side, JSON-serializable object, not an ee.geometry object. \n",
    "\n",
    "To define the resolution we will either pass it a pixel resolution which has to be in metres, or the required dimensions of the output image in pixels. Because we're exporting in lat/lon coords, getting the pixel resolution in metres is tricky as it isn't an exact number and varies with location. And most MAP analysis actually needs a fixed arcsecond resolution, not metres. So for exporting to a fixed arcsecond resolution we instead ask the export function to export to an image of specified dimensions, which we first calculate externally from the extent and the number of pixels per degree.\n",
    "\n",
    "To define the region we can either specify a country, as an ISO3 code, or a bounding box in degrees.\n",
    "\n",
    "Here we define a function to build the relevant parameters for the EE export function for either scenario. If we want to end up with mastergrid-alignable rasters then it will be better to use the bbox rather than an ISO3 code, as the automatic bbox from a country geometry will not likely be a whole number of mastergrid pixels across and so would need adjusting (which we haven't bothered to implement here). Then specify resolution in pixPerDegreeResolution, with 120 for the \"1k\" mastergrids, 1200 for \"100m\", etc."
   ]
  },
  {
   "cell_type": "code",
   "execution_count": null,
   "metadata": {
    "collapsed": true
   },
   "outputs": [],
   "source": [
    "import math\n",
    "\n",
    "def unpack(thelist):\n",
    "    unpacked = []\n",
    "    for i in thelist:\n",
    "        unpacked.append(i[0])\n",
    "        unpacked.append(i[1])\n",
    "    return unpacked\n",
    "\n",
    "# bbox if specified must be a list of 4 coords [xmin, ymin, xmax, ymax]\n",
    "def buildExtractionParams(iso3=None, bbox=None, \n",
    "                          metresResolution=None, pixPerDegreeResolution=None):\n",
    "    # this works out to be a boolean xor test\n",
    "    if (iso3 is not None) == (bbox is not None):\n",
    "        raise ValueError(\"either ISO3 OR a bounding box must be specified but not both\")\n",
    "    if (metresResolution is not None) == (pixPerDegreeResolution is not None):\n",
    "        raise ValueError(\"either a pixel resolution in metres or in exact pixels per degree must be specified but not both\")\n",
    "\n",
    "    output = {\n",
    "        #image, description, bucket, fileNamePrefix, maxPixels, region, dimensions OR scale, crs\n",
    "        'crs': 'EPSG:4326',\n",
    "        'maxPixels': 400000000,\n",
    "        'bucket': CLOUDBUCKET\n",
    "    }\n",
    "    \n",
    "    if iso3 is not None:\n",
    "        # Get a geometry for the area of interest \n",
    "        geoms = nationalBoundaries.filterMetadata(\"iso_alpha3\", \"equals\", ISO3_TO_EXPORT);\n",
    "        bufferedboxes = geoms.map(lambda f: (f.bounds().buffer(10000).bounds()))\n",
    "  \n",
    "        roiFeat = ee.Feature(bufferedboxes.union(ee.ErrorMargin(10)).first())\n",
    "        roiGeom = roiFeat.geometry()\n",
    "        geomType = roiGeom.type().getInfo()\n",
    "        if geomType=='MultiPolygon':\n",
    "            roiGeom = roiGeom.bounds()\n",
    "            geomType = roiGeom.type().getInfo()\n",
    "            if geomType != 'Polygon':\n",
    "                raise RuntimeError(\"ROI seems to be too disparate, can't make a sensible ROI bounding box\")\n",
    "        #https://groups.google.com/d/msg/google-earth-engine-developers/TViMuO3ObeM/cpNNg-eMDAAJ\n",
    "        #roiCoordsBizarrelyRequired = roi.getInfo()['geometry']['coordinates']\n",
    "        roiCoords = roiGeom.getInfo()['coordinates']\n",
    "    else:\n",
    "        roiGeom = ee.Geometry.Rectangle(bbox)\n",
    "        # the export call needs a json-serializable object, not an actual ee geometry object, this is different from JS i think\n",
    "        roiCoords = roiGeom.getInfo()['coordinates']\n",
    "    output['region_geom'] = roiGeom\n",
    "    output['region'] = roiCoords\n",
    "    if metresResolution is not None:\n",
    "        output['scale'] = metresResolution\n",
    "    else:\n",
    "        if bbox is None:\n",
    "            # we need to get the xmin, xmax, ymin, ymax coords from the country geometry object, this seems to be \n",
    "            # bizarrely difficult unless i am missing something\n",
    "            # create a flat list of [x, y, x1, y1, x2, y2, ...]\n",
    "            unpackedCoords = unpack(roiCoordsBizarrelyRequired[0])\n",
    "            xCoords = unpackedCoords[::2]\n",
    "            yCoords = unpackedCoords[1:][::2]\n",
    "            xmin = min(xCoords)\n",
    "            xmax = max(xCoords)\n",
    "            ymin = min(yCoords)\n",
    "            ymax = max(yCoords)\n",
    "        else:\n",
    "            xmin, ymin, xmax, ymax = bbox\n",
    "        xDimFrac = (xmax-xmin) * pixPerDegreeResolution\n",
    "        yDimFrac = math.ceil((ymax-ymin) * pixPerDegreeResolution)\n",
    "        if (int(xDimFrac) != xDimFrac) or (int(yDimFrac)!= yDimFrac):\n",
    "            print(\"Warning - non integer number of pixels fits, will round up\")\n",
    "        xDim = int(math.ceil(xDimFrac))\n",
    "        yDim = int(math.ceil(yDimFrac))\n",
    "        dimensionsString = str(xDim)+\"x\"+str(yDim)\n",
    "        output['dimensions'] = dimensionsString\n",
    "    return output"
   ]
  },
  {
   "cell_type": "code",
   "execution_count": null,
   "metadata": {
    "collapsed": true
   },
   "outputs": [],
   "source": [
    "# e.g.:\n",
    "# buildExtractionParams(iso3=\"PAN\", metresResolution=100)\n",
    "# buildExtractionParams(bbox=[-84, 7, -77, 10], pixPerDegreeResolution=120)"
   ]
  },
  {
   "cell_type": "markdown",
   "metadata": {},
   "source": [
    "#### Configure the area we're going to extract for and at what resolution.\n",
    "\n",
    "Run one of the following two cells to build the params using the above function\n"
   ]
  },
  {
   "cell_type": "code",
   "execution_count": null,
   "metadata": {
    "collapsed": true
   },
   "outputs": [],
   "source": [
    "# name to prepend to the filenames we export\n",
    "locationName = \"PAN\"\n",
    "\n",
    "# Specify the country to export data for as an ISO3 code. The export will cover the bounding box \n",
    "# of this country with a 10km buffer to allow for data discrepancies.\n",
    "ISO3_TO_EXPORT = \"PAN\"\n",
    "\n",
    "# Export resolution in metres (so, in WGS84 the output resolution will vary with latitude)\n",
    "EXPORT_RES_M = 100;\n",
    "\n",
    "CommonExtractionParams = buildExtractionParams(iso3=ISO3_TO_EXPORT, metresResolution=EXPORT_RES_M)\n"
   ]
  },
  {
   "cell_type": "markdown",
   "metadata": {},
   "source": [
    "OR"
   ]
  },
  {
   "cell_type": "code",
   "execution_count": null,
   "metadata": {
    "collapsed": true
   },
   "outputs": [],
   "source": [
    "# name to prepend to the filenames we export\n",
    "locationName = \"PAN\"\n",
    "\n",
    "# PAN:\n",
    "xmin, ymin, xmax, ymax = -84, 7, -77, 10\n",
    "\n",
    "# bioko:\n",
    "#xmin, ymin, xmax, ymax = -89.5, 12.5, -82, 17.5\n",
    "\n",
    "\n",
    "bbox = [xmin, ymin, xmax, ymax]\n",
    "\n",
    "CommonExtractionParams = buildExtractionParams(bbox=bbox, pixPerDegreeResolution=1200)\n",
    "EXPORT_RES_M = 100 # in this usage, this is just for generating the filenames"
   ]
  },
  {
   "cell_type": "markdown",
   "metadata": {},
   "source": [
    "#### Configure the Landsat compositor algorithm\n",
    "\n",
    "This next cell configures how the Earth Engine Landsat compositor algorithm runs - this attempts to make a cloud-free image for a given period of interest by ranking all the available images in that period based on a \"cloud score\" and then picking (at each pixel) the best value.\n",
    "\n",
    "(This means that every pixel of the output comes from a different input image, and time)\n",
    "\n",
    "At each pixel the algorithm ranks the images in terms of how cloudy they are. From all the possible images, it then takes the \"n\" least cloudy values (LS_CLOUD_SCORE_RANGE), then generates a single value from those by taking the median or some other percentile (LS_CLOUD_PERCENTILE). See\n",
    "https://developers.google.com/earth-engine/landsat#simple-composite"
   ]
  },
  {
   "cell_type": "code",
   "execution_count": null,
   "metadata": {
    "collapsed": true
   },
   "outputs": [],
   "source": [
    "# PROBABLY DON'T NEED TO CHANGE ANYTHING IN THIS CELL\n",
    "\n",
    "# Specify the parameters for the ee.Algorithms.Landsat.simpleComposite algorithm. \n",
    "# You can add the \"Seasonal best\" map to the map viewer to see how well it's done, and tune these\n",
    "# to suit. \n",
    "LS_CLOUD_SCORE_RANGE = 10;\n",
    "LS_CLOUD_PERCENTILE = 50;"
   ]
  },
  {
   "cell_type": "markdown",
   "metadata": {},
   "source": [
    "### Code setup\n",
    "Run all the following cells until the next note, to define the required functions which will be used to calculate the indices / covariates we actually want from the LS8 images"
   ]
  },
  {
   "cell_type": "code",
   "execution_count": null,
   "metadata": {
    "collapsed": true
   },
   "outputs": [],
   "source": [
    "# get the server-side version of the geometry and remove it from the export config dictionary\n",
    "roi = CommonExtractionParams.pop('region_geom')"
   ]
  },
  {
   "cell_type": "code",
   "execution_count": null,
   "metadata": {
    "collapsed": false
   },
   "outputs": [],
   "source": [
    "roi.type().getInfo()"
   ]
  },
  {
   "cell_type": "code",
   "execution_count": null,
   "metadata": {
    "collapsed": true
   },
   "outputs": [],
   "source": [
    "# pre-filter the collection to only include scenes that cover the area of interest.\n",
    "# Not sure if this makes any difference to performance as presumably EE is smart enough to \n",
    "# do this on export anyway, but it's more so we can check the size to see if there's a reasonable \n",
    "# number of images for the amount we've asked the compositor to select from\n",
    "ls8_filteredToRegion = ls8_to_use.filterBounds(roi)"
   ]
  },
  {
   "cell_type": "code",
   "execution_count": null,
   "metadata": {
    "collapsed": false
   },
   "outputs": [],
   "source": [
    "print (ls8_filteredToRegion.size().getInfo())"
   ]
  },
  {
   "cell_type": "code",
   "execution_count": null,
   "metadata": {
    "collapsed": true
   },
   "outputs": [],
   "source": [
    "# A function to compute Enhanced Vegetation Index (EVI)  on Landsat 8 imagery\n",
    "def computeEVI(image): \n",
    "    # The constants used to define EVI\n",
    "    C1 = 6.0;\n",
    "    C2 = 7.5;\n",
    "    L = 1.0;\n",
    "    G = 2.5;\n",
    "\n",
    "    # Select the three bands we need\n",
    "    red = image.select('B4');\n",
    "    nir = image.select('B5');\n",
    "    blue = image.select('B2');\n",
    "\n",
    "    # Compute EVI\n",
    "    evi = (nir.subtract(red)\n",
    "        .divide(nir.add(red.multiply(C1)).subtract(blue.multiply(C2)).add(L))\n",
    "        .multiply(G)\n",
    "        .clamp(0.0, 1.0))\n",
    "\n",
    "    # Rename the resulting band\n",
    "    return (evi.rename(['evi'])\n",
    "    .set('system:time_start', image.get('system:time_start')));\n"
   ]
  },
  {
   "cell_type": "code",
   "execution_count": null,
   "metadata": {
    "collapsed": true
   },
   "outputs": [],
   "source": [
    "# A function to compute Tasseled Cap Brightness (TCB) on Landsat 8 imagery\n",
    "\n",
    "# Coefficients from:\n",
    "# Baig, M. H. A., et al. (2014). \"Derivation of a tasselled cap transformation \n",
    "# based on Landsat 8 at-satellite reflectance.\" Remote Sensing Letters 5(5): 423-431.\n",
    "def computeTCB(image):\n",
    "\n",
    "    # The constants used to define EVI\n",
    "    coef1 = 0.3029; # coef for blue (band 2)\n",
    "    coef2 = 0.2786; # coef for green (band 3)\n",
    "    coef3 = 0.4733; # coef for red (band 4)\n",
    "    coef4 = 0.5599; # coef for NIR (band 5)\n",
    "    coef5 = 0.5080; # coef for SWIR_1 (band 6)\n",
    "    coef6 = 0.1872; # coef for SWIR_2 (band 7)\n",
    "\n",
    "\n",
    "    # Select the bands we need\n",
    "    blue = image.select('B2');\n",
    "    green = image.select('B3');\n",
    "    red = image.select('B4');\n",
    "    nir = image.select('B5');\n",
    "    swir1 = image.select('B6');\n",
    "    swir2 = image.select('B7');\n",
    "\n",
    "    tcb = (blue.multiply(coef1)\n",
    "    .add(green.multiply(coef2))\n",
    "    .add(red.multiply(coef3))\n",
    "    .add(nir.multiply(coef4))\n",
    "    .add(swir1.multiply(coef5))\n",
    "    .add(swir2.multiply(coef6)));\n",
    "\n",
    "    # Rename the resulting band\n",
    "    return (tcb.rename(['tcb'])\n",
    "    .set('system:time_start', image.get('system:time_start')));\n"
   ]
  },
  {
   "cell_type": "code",
   "execution_count": null,
   "metadata": {
    "collapsed": true
   },
   "outputs": [],
   "source": [
    "# A function to compute Tasseled Cap Greenness (TCG) on Landsat 8 imagery\n",
    "#\n",
    "# Coefficients from:\n",
    "# Baig, M. H. A., et al. (2014). \"Derivation of a tasselled cap transformation \n",
    "# based on Landsat 8 at-satellite reflectance.\" Remote Sensing Letters 5(5): 423-431.\n",
    "def computeTCG(image):\n",
    "    # The constants used to define TCG\n",
    "    coef1 = -0.2941; # coef for blue (band 2)\n",
    "    coef2 = -0.243; # coef for green (band 3)\n",
    "    coef3 = -0.5424; # coef for red (band 4)\n",
    "    coef4 = 0.7276; # coef for NIR (band 5)\n",
    "    coef5 = 0.0713; # coef for SWIR_1 (band 6)\n",
    "    coef6 = -0.1608; # coef for SWIR_2 (band 7)\n",
    "\n",
    "    # Select the bands we need\n",
    "    blue = image.select('B2');\n",
    "    green = image.select('B3');\n",
    "    red = image.select('B4');\n",
    "    nir = image.select('B5');\n",
    "    swir1 = image.select('B6');\n",
    "    swir2 = image.select('B7');\n",
    "\n",
    "    tcg = (blue.multiply(coef1)\n",
    "    .add(green.multiply(coef2))\n",
    "    .add(red.multiply(coef3))\n",
    "    .add(nir.multiply(coef4))\n",
    "    .add(swir1.multiply(coef5))\n",
    "    .add(swir2.multiply(coef6)));\n",
    "\n",
    "    # Rename the resulting band\n",
    "    return (tcg.rename(['tcg'])\n",
    "    .set('system:time_start', image.get('system:time_start')));\n"
   ]
  },
  {
   "cell_type": "code",
   "execution_count": null,
   "metadata": {
    "collapsed": true
   },
   "outputs": [],
   "source": [
    "# A function to compute Tasseled Cap Wetness (TCW) on Landsat 8 imagery\n",
    "#\n",
    "# Coefficients from:\n",
    "# Baig, M. H. A., et al. (2014). \"Derivation of a tasselled cap transformation \n",
    "# based on Landsat 8 at-satellite reflectance.\" Remote Sensing Letters 5(5): 423-431.\n",
    "def computeTCW(image):\n",
    "    # The constants used to define EVI\n",
    "    coef1 = 0.1511; # coef for blue (band 2)\n",
    "    coef2 = 0.1973; # coef for green (band 3)\n",
    "    coef3 = 0.3283; # coef for red (band 4)\n",
    "    coef4 = 0.3407; # coef for NIR (band 5)\n",
    "    coef5 = -0.7117; # coef for SWIR_1 (band 6)\n",
    "    coef6 = -0.4559; # coef for SWIR_2 (band 7)\n",
    "\n",
    "\n",
    "    # Select the bands we need\n",
    "    blue = image.select('B2');\n",
    "    green = image.select('B3');\n",
    "    red = image.select('B4');\n",
    "    nir = image.select('B5');\n",
    "    swir1 = image.select('B6');\n",
    "    swir2 = image.select('B7');\n",
    "\n",
    "    tcw = (blue.multiply(coef1)\n",
    "    .add(green.multiply(coef2))\n",
    "    .add(red.multiply(coef3))\n",
    "    .add(nir.multiply(coef4))\n",
    "    .add(swir1.multiply(coef5))\n",
    "    .add(swir2.multiply(coef6)));\n",
    "\n",
    "    # Rename the resulting band\n",
    "    return (tcw.rename(['tcw'])\n",
    "    .set('system:time_start', image.get('system:time_start')));\n"
   ]
  },
  {
   "cell_type": "code",
   "execution_count": null,
   "metadata": {
    "collapsed": true
   },
   "outputs": [],
   "source": [
    "# Map MODIS MCD12Q1 landcover to emissivity for use in calculating land surface temperature \n",
    "# from landsat brightness temperatures\n",
    "# Uses the NPP landcover classification layer as described at:\n",
    "# https:#lpdaac.usgs.gov/dataset_discovery/modis/modis_products_table/mcd12q1\n",
    "# and emissivity values estimated from these by sticking a finger into the air in the \n",
    "# vicinity of https:#fromgistors.blogspot.com/2016/09/estimation-of-land-surface-temperature.html\n",
    "def NPPtoEmissivity(image):\n",
    "    # NPP MODIS classification is \n",
    "    # 0 - water\n",
    "    # 1-5 - types of forest\n",
    "    # 6 - grass\n",
    "    # 7 - non-vegetated\n",
    "    # 8 - urban\n",
    "    lcClasses =   [0,1,2,3,4,5,6,7,8,254,255];\n",
    "    \n",
    "    # emissivity numbers are a matter of guesstimation. Using values from:\n",
    "    # https:#fromgistors.blogspot.com/2016/09/estimation-of-land-surface-temperature.html\n",
    "    # which gives\n",
    "    # water 0.98\n",
    "    # Built-up\t0.94\n",
    "    # Vegetation\t0.98\n",
    "    # Bare soil\t0.93\n",
    "    \n",
    "    # multiply by 100 as the remap function needs ints\n",
    "    emisClasses = [98, 98, 98, 98, 98, 98, 98, 93, 94, 25400, 25500];\n",
    "    # Note that \"remap\" is the EE equivalent of \"reclass\". \"Land_Cover_Type_4\" is the name \n",
    "    # of the NPP band in the MODIS image\n",
    "    emisMap = image.remap(lcClasses, emisClasses, None, 'Land_Cover_Type_4');\n",
    "    return emisMap.divide(100.0);\n"
   ]
  },
  {
   "cell_type": "code",
   "execution_count": null,
   "metadata": {
    "collapsed": true
   },
   "outputs": [],
   "source": [
    "# Estimate Land Surface Temperature from (separately) bands 10 and 11 of the landsat image \n",
    "# (the brightness temperature). Uses the most recent modis landcover image (2013) and some \n",
    "# highly official coefficients to estimate emissivity.\n",
    "# NB the two bands give rather different values. Nobody knows which is less wrong.\n",
    "def brightnessToLst_CRAP(image):\n",
    "    emis2013 = (modis_landcover\n",
    "        .filter(ee.Filter.calendarRange(2013,2013,\"year\"))\n",
    "        .map(NPPtoEmissivity)\n",
    "        .first());\n",
    "    emis2013 = ee.Image(emis2013);  \n",
    "    lst10 = (image.expression\n",
    "             (\n",
    "                'BT / (1 + (lambda * BT / plnk) * log(emis))', \n",
    "                {\n",
    "                  'BT': image.select('B10'),\n",
    "                  'lambda' : 10.8e-6,\n",
    "                  'plnk': 1.4388e-2,\n",
    "                  'emis': emis2013.select('remapped')\n",
    "                }\n",
    "            )\n",
    "        .select('B10')\n",
    "        .rename(['lst_band10'])\n",
    "    );\n",
    "    lst11 = (image.expression\n",
    "        (\n",
    "            'BT / (1 + (lambda * BT / plnk) * log(emis))', \n",
    "            {\n",
    "              'BT': image.select('B11'),\n",
    "              'lambda' : 12e-6,\n",
    "              'plnk': 1.4388e-2,\n",
    "              'emis': emis2013.select('remapped')\n",
    "            }\n",
    "        )\n",
    "        .select('B11')\n",
    "        .rename(['lst_band11'])\n",
    "    );\n",
    "    return image.addBands(lst10).addBands(lst11);\n"
   ]
  },
  {
   "cell_type": "code",
   "execution_count": null,
   "metadata": {
    "collapsed": true
   },
   "outputs": [],
   "source": [
    "# Estimate Land Surface Temperature from (separately) bands 10 and 11 of the landsat image \n",
    "# (the brightness temperature). Uses the most recent modis landcover image (2013) and some \n",
    "# highly official coefficients to estimate emissivity.\n",
    "# NB the two bands give rather different values. Nobody knows which is less wrong.\n",
    "def brightnessToLst(image):\n",
    "    lst10 = (image.expression\n",
    "             (\n",
    "                'BT / (1 + (lambda * BT / plnk) * log(emis))', \n",
    "                {\n",
    "                  'BT': image.select('B10'),\n",
    "                  'lambda' : 10.8e-6,\n",
    "                  'plnk': 1.4388e-2,\n",
    "                  'emis': image.select('Emis_31')\n",
    "                }\n",
    "            )\n",
    "        .select('B10')\n",
    "        .rename(['lst_band10'])\n",
    "        .subtract(273.15)\n",
    "    );\n",
    "    lst11 = (image.expression\n",
    "        (\n",
    "            'BT / (1 + (lambda * BT / plnk) * log(emis))', \n",
    "            {\n",
    "              'BT': image.select('B11'),\n",
    "              'lambda' : 12e-6,\n",
    "              'plnk': 1.4388e-2,\n",
    "              'emis': image.select('Emis_32')\n",
    "            }\n",
    "        )\n",
    "        .select('B11')\n",
    "        .rename(['lst_band11'])\n",
    "        .subtract(273.15)\n",
    "    );\n",
    "    return lst10.addBands(lst10).addBands(lst11);\n"
   ]
  },
  {
   "cell_type": "code",
   "execution_count": null,
   "metadata": {
    "collapsed": true
   },
   "outputs": [],
   "source": [
    "# Create a series from the MODIS LST dataset which only contains the Emissivity bands, \n",
    "# scaled into the proper units, but which otherwise contains the same images with the \n",
    "# same dates as the MODIS\n",
    "def filterEmis(img):\n",
    "    return (img \n",
    "        .select(\"Emis_31\", \"Emis_32\")\n",
    "        .multiply(0.002)\n",
    "        .add(0.49)\n",
    "        .set(\"system:time_start\", img.get(\"system:time_start\")))\n",
    "emisOnly = modis_lst.map(filterEmis)\n",
    "    "
   ]
  },
  {
   "cell_type": "code",
   "execution_count": null,
   "metadata": {
    "collapsed": true
   },
   "outputs": [],
   "source": [
    "# Function to calculate evi, tcb, tcg, tcw, lst10, lst11 for a single landsat 8 image,\n",
    "# to which the MODIS emissivity bands Emis_31 and Emis_32 must first have been added\n",
    "\n",
    "# Returns the input image with each of these indices added as a band named\n",
    "# \"evi\", \"tcb\", \"tcg\", \"tcw\", \"lst_band10\", and \"lst_band11\".\n",
    "# This uses the functions defined separately for each individual index, and is \n",
    "# provided as a convenience wrapper\n",
    "def calcIndices(img):\n",
    "    # Calculate NDVI as a band for optional sorting by that\n",
    "    ndvi = img.normalizedDifference(['B5', 'B4']).select([0], ['ndvi']);\n",
    "    # Calculate EVI using the function above\n",
    "    evi = computeEVI(img);\n",
    "    # Calculate the Tasseled Cap Bands using the functions above\n",
    "    tcb = computeTCB(img);\n",
    "    # tcbINV = ee.Image(-1).multiply(tcb).select([0], ['tcbINV']);\n",
    "    tcg = computeTCG(img);\n",
    "    tcw = computeTCW(img);\n",
    "    lst_10_11 = brightnessToLst(img)\n",
    "    \n",
    "    # Add the bands to the image\n",
    "    img = img.addBands(ndvi);\n",
    "    img = img.addBands(evi);\n",
    "    img = img.addBands(tcb);\n",
    "    # img = img.addBands(tcbINV);\n",
    "    img = img.addBands(tcg);\n",
    "    img = img.addBands(tcw);\n",
    "    img = img.addBands(lst_10_11);\n",
    "\n",
    "    return img;\n"
   ]
  },
  {
   "cell_type": "markdown",
   "metadata": {},
   "source": [
    "No matter whether we are outputting an image representing one or several years of data, the output image may be calculated either as the average of all images occurring in that period, or as the average of four seasonal subset images. \n",
    "\n",
    "In the latter case each of those seasonal images will be calculated from all the data for that season occurring in the year(s) of interest. This is to minimise the effect of seasonally-biased cloud cover meaning we could get more input images at a particular time of year (when, say, the ground may be less green)."
   ]
  },
  {
   "cell_type": "code",
   "execution_count": null,
   "metadata": {
    "collapsed": true
   },
   "outputs": [],
   "source": [
    "# Functions to calculate a composite image from the landsat 8 image stack for the dates in question.\n",
    "\n",
    "# We run the compositor to generate the cloud-free-ish LS8 image, add the emissivity as the mean of the MODIS \n",
    "# emissivity values for the period in question (NOTE: we don't get the exact matching emissivity on a pixel-by-pixel\n",
    "# basis which might be smarter but probably not worth the effort), and then add the required indices to this composite \n",
    "# image.\n",
    "\n",
    "# It has to be this way round for the compositor, which is designed to work just on Landsat imagery. It won't work if \n",
    "# we add the indices to the incoming images first.\n",
    "\n",
    "# The returned image is calculated from the the best available data for the period given - thus each pixel may \n",
    "# be from a totally different time of year. The pixels are selected using the simple cloud-avoiding compositor \n",
    "# function for all source images occurring in the specified years. The image has the evi, ndvi, \n",
    "# etc bands added.\n",
    "def landsatAnnualSummary(yrFrom, yrTo):\n",
    "    # get the relevant year(s) data from the imagecollection\n",
    "    periodFilter = ee.Filter.calendarRange(yrFrom,yrTo,\"year\")\n",
    "    periodLS = ls8_filteredToRegion.filter(periodFilter);\n",
    "    # calculate the indices for the years specified, using the built-in simple composite \n",
    "    # function to select the best cloud free value at each pixel from the available images\n",
    "    # occurring within the specified year range\n",
    "    imgLS = ee.Algorithms.Landsat.simpleComposite(**{\n",
    "      'collection': periodLS,\n",
    "      'percentile': LS_CLOUD_PERCENTILE,\n",
    "      'cloudScoreRange': LS_CLOUD_SCORE_RANGE,\n",
    "      'asFloat':True,\n",
    "      'maxDepth':200\n",
    "    }).addBands(ee.Image(emisOnly.filter(periodFilter).mean()))\n",
    "    yearBest = calcIndices(imgLS)\n",
    "    return yearBest\n",
    "\n",
    "# Function to calculate a seasonally-balanced annual mean image from the landsat 8 image stack.\n",
    "# The returned image is comprised of a mean of 4 seasonal (spring, summer, autumn, winter) images,\n",
    "# where each of those 4 images is generated using the simple cloud-avoiding compositor function for \n",
    "# all source images occurring in the specified years in the relevant season. The image has the evi, ndvi, \n",
    "# etc bands added.\n",
    "def landsatSeasonalSummary(yrFrom, yrTo):\n",
    "    # get the relevant year(s) data from the imagecollection\n",
    "    periodData = ls8_filteredToRegion.filter(ee.Filter.calendarRange(yrFrom,yrTo,\"year\"));\n",
    "    \n",
    "    # filter the input data into 4 seasons\n",
    "    springFilter = ee.Filter.calendarRange(4,6,\"month\")\n",
    "    summerFilter = ee.Filter.calendarRange(7,9,\"month\")\n",
    "    autumnFilter = ee.Filter.calendarRange(10,12,\"month\")\n",
    "    winterFilter = ee.Filter.calendarRange(1,3,\"month\")\n",
    "    springLS = periodData.filter(springFilter);\n",
    "    summerLS = periodData.filter(summerFilter);\n",
    "    autumnLS = periodData.filter(autumnFilter);\n",
    "    winterLS = periodData.filter(winterFilter);\n",
    "    # make a composite for each season using the built-in simple composite \n",
    "    # function to select the best cloud free value at each pixel from the available images\n",
    "    # Then add the mean MODIS emissivity data for the equivalent period; this has to be done \n",
    "    # after the composition as the compositor only returns the landsat bands and strips others out\n",
    "    # (so we can't carry through the emissivity precisely corresponding to each source Landsat image)\n",
    "    springImageLS = ee.Algorithms.Landsat.simpleComposite(**{\n",
    "      'collection': springLS,\n",
    "      'percentile': LS_CLOUD_PERCENTILE,\n",
    "      'cloudScoreRange': LS_CLOUD_SCORE_RANGE,\n",
    "      'asFloat':True,\n",
    "      'maxDepth':200\n",
    "    }).addBands(ee.Image(emisOnly.filter(springFilter).mean()))\n",
    "    summerImageLS = ee.Algorithms.Landsat.simpleComposite(**{\n",
    "      'collection': summerLS,\n",
    "      'percentile': LS_CLOUD_PERCENTILE,\n",
    "      'cloudScoreRange': LS_CLOUD_SCORE_RANGE,\n",
    "      'asFloat':True,\n",
    "      'maxDepth':200\n",
    "    }).addBands(ee.Image(emisOnly.filter(summerFilter).mean()))\n",
    "    autumnImageLS = ee.Algorithms.Landsat.simpleComposite(**{\n",
    "      'collection': autumnLS,\n",
    "      'percentile': LS_CLOUD_PERCENTILE,\n",
    "      'cloudScoreRange': LS_CLOUD_SCORE_RANGE,\n",
    "      'asFloat':True,\n",
    "      'maxDepth':200\n",
    "    }).addBands(ee.Image(emisOnly.filter(autumnFilter).mean()))\n",
    "    winterImageLS = ee.Algorithms.Landsat.simpleComposite(**{\n",
    "      'collection': winterLS,\n",
    "      'percentile': LS_CLOUD_PERCENTILE,\n",
    "      'cloudScoreRange': LS_CLOUD_SCORE_RANGE,\n",
    "      'asFloat':True,\n",
    "      'maxDepth':200\n",
    "    }).addBands(ee.Image(emisOnly.filter(winterFilter).mean()))\n",
    "    # calculate the indices for each season separately, \n",
    "    springBest = calcIndices(springImageLS)\n",
    "    summerBest = calcIndices(summerImageLS)\n",
    "    autumnBest = calcIndices(autumnImageLS)\n",
    "    winterBest = calcIndices(winterImageLS)\n",
    "\n",
    "    # calculate a \"seasonal\" or balanced mean from the 4 seasonal images\n",
    "    # THIS IS OUR OUTPUT IMAGE - we just select the bands out from it\n",
    "    seasonalBest = (ee.ImageCollection\n",
    "    .fromImages([springBest,summerBest,autumnBest,winterBest])\n",
    "    .mean());\n",
    "    return seasonalBest;\n"
   ]
  },
  {
   "cell_type": "code",
   "execution_count": null,
   "metadata": {
    "collapsed": true
   },
   "outputs": [],
   "source": [
    "# call the export routine; same function whichever way we are defining the output size\n",
    "def exportFunction(prebakedParams, prefix, description, image):\n",
    "    # copy the input so it isn't modified (pass-by-reference), just in case of confusion - this\n",
    "    # won't make a copy of the region as that's a list but we're not going to change that so \n",
    "    # it doesn't really matter\n",
    "    exportParams=prebakedParams.copy()\n",
    "    exportParams['image']=image\n",
    "    exportParams['fileNamePrefix']=prefix\n",
    "    exportParams['description']=description\n",
    "    task = ee.batch.Export.image.toCloudStorage(**exportParams)\n",
    "    return task"
   ]
  },
  {
   "cell_type": "markdown",
   "metadata": {},
   "source": [
    "Define a function to run all the exports for a given year range. If seasonal=True then create the annual data as the average of four seasonal sub-averages (to help balance out the effect of some areas being more cloudy in some seasons than others). This needs more data to be available, though (at least 1 image per season), so if too many gaps then try without it to just do an average of all the available data in a year.\n"
   ]
  },
  {
   "cell_type": "code",
   "execution_count": null,
   "metadata": {
    "collapsed": true
   },
   "outputs": [],
   "source": [
    "def runDynamicExportsForPeriod(yrFrom, yrTo, seasonal=True):\n",
    "    # if required create an output image representing the mean of the four seasonal \n",
    "    # images, which are themselves drawn from that season's data in all the input years\n",
    "    if seasonal:\n",
    "        outputBest = landsatSeasonalSummary(yrFrom, yrTo)\n",
    "    # or don't\n",
    "    else:\n",
    "        outputBest = landsatAnnualSummary(yrFrom, yrTo)\n",
    "        \n",
    "    # for the output filename\n",
    "    yrPhrase = str(yrFrom) if yrFrom == yrTo else str(yrFrom) + \"-\" + str(yrTo);\n",
    "    seasonalPhrase = \"_seasonal_mean\" if seasonal else \"_annual_mean\"\n",
    "    \n",
    "    # all or none of the landsat reflectance ones:\n",
    "    if RUN_REFLECTANCE_INDICES:\n",
    "        # the names of the bands that have been added in the landsat*Summary function\n",
    "        lsIndices = ['tcb', 'tcw', 'tcg', 'evi', 'ndvi'];\n",
    "        for idtag in lsIndices:\n",
    "            fnPrefix = (locationName + \"_\" + idtag + \"_ls8_\" +\n",
    "              str(EXPORT_RES_M) + \"m_\" + yrPhrase + seasonalPhrase);\n",
    "            desc = locationName + \"-\" + idtag + \"-\" + yrPhrase + \"-exp\";\n",
    "            tmpImg = outputBest.select(idtag);\n",
    "            t = exportFunction(CommonExtractionParams, fnPrefix, desc, tmpImg);\n",
    "            TASKLIST.append(t)\n",
    "    \n",
    "    # both or none of the landsat LST ones\n",
    "    if RUN_LST_ESTIMATES:\n",
    "        tmpImg = outputBest.select('lst_band10')\n",
    "        fnPrefix = (locationName + '_lsTemp10_ls8_' + str(EXPORT_RES_M)\n",
    "                    + \"m_\" + yrPhrase + seasonalPhrase);\n",
    "        desc = locationName + \"-\" + 'lsTemp10' + \"-\" + yrPhrase + \"-exp\";\n",
    "        t = exportFunction(CommonExtractionParams, fnPrefix, desc, tmpImg);\n",
    "        TASKLIST.append(t)\n",
    "\n",
    "        tmpImg = outputBest.select('lst_band11')\n",
    "        fnPrefix = (locationName + '_lsTemp11_ls8_' + str(EXPORT_RES_M) \n",
    "                    + \"m_\" + yrPhrase + seasonalPhrase);\n",
    "        desc = locationName + \"-\" + 'lsTemp11' + \"-\" + yrPhrase + \"-exp\";\n",
    "        t = exportFunction(CommonExtractionParams, fnPrefix, desc, tmpImg);\n",
    "        TASKLIST.append(t)\n",
    "\n",
    "    # we aren't using brightness temps - could get those out as bands bTemp10 and bTemp11\n",
    "    \n",
    "    # Summarise the CHIRPS rainfall data: we need to do annual SUM with this not annual MEAN\n",
    "    if RUN_CHIRPS:\n",
    "        chirpsImgs = [];\n",
    "        for y in range (yrFrom, yrTo+1):\n",
    "            chirpsYr = chirps.filter(ee.Filter.calendarRange(y, y, \"year\")).sum();\n",
    "            chirpsImgs.append(chirpsYr);\n",
    "        chirpsMean = ee.ImageCollection.fromImages(chirpsImgs).mean();\n",
    "        # Map.addLayer(chirps2014,{palette:\"FF0000,0000FF\",min:0,max:3000},'2014');\n",
    "        fnPrefix = (locationName + '_chirps_' + str(EXPORT_RES_M) \n",
    "                    + 'm_' + yrPhrase + '_annual_average');\n",
    "        desc = locationName + \"-\" + 'chirps' + \"-\" + yrPhrase + \"-exp\";\n",
    "        t = exportFunction(CommonExtractionParams, fnPrefix, desc, chirpsMean);\n",
    "        TASKLIST.append(t)\n"
   ]
  },
  {
   "cell_type": "markdown",
   "metadata": {},
   "source": [
    "# Initialise and run the exports!\n",
    "This next cell is the one that will actually build the export requests for each covariate and year. The requests are accumulated as Task objects which are queued but not started yet. Run this cell."
   ]
  },
  {
   "cell_type": "code",
   "execution_count": null,
   "metadata": {
    "collapsed": true
   },
   "outputs": [],
   "source": [
    "TASKLIST = []\n",
    "\n",
    "# Elevation we don't run inside the function as it's just a static image (barring the resolution upsampling)\n",
    "if RUN_ELEV_HYDROSHEDS:\n",
    "    fnPrefix = locationName + '_hydrosheds_elevation_' + str(EXPORT_RES_M) + 'm';\n",
    "    desc = locationName + '-' + 'hs_elev-exp';\n",
    "    t = exportFunction(CommonExtractionParams, fnPrefix, desc, elevHydrosheds100m);\n",
    "    TASKLIST.append(t)\n",
    "\n",
    "if RUN_ELEV_SRTM:\n",
    "    fnPrefix = locationName + '_srtm_elevation_' + str(EXPORT_RES_M) + 'm';\n",
    "    desc = locationName + '-' + 'srtm_elev-exp';\n",
    "    t = exportFunction(CommonExtractionParams, fnPrefix, desc, elevSRTM30m);\n",
    "    TASKLIST.append(t)\n",
    "\n",
    "if RUN_ELEV_ALOS:\n",
    "    fnPrefix = locationName + '_alos_dsm_elevation_' + str(EXPORT_RES_M) + 'm';\n",
    "    desc = locationName + '-' + 'alos_elev_exp';\n",
    "    t = exportFunction(CommonExtractionParams, fnPrefix, desc, elevAlos);\n",
    "    TASKLIST.append(t)\n",
    "    \n",
    "# run whichever are configured out of reflectance indices, temps, and CHIRPS, either \n",
    "# for all years at once to generate a synoptic result, or once per year to generate a \n",
    "# separate result for each year. In either case each output image can be generated from \n",
    "# intermediate seasonal images or from all the data corresponding to that output period.\n",
    "if (summariseToSynoptic):\n",
    "    runDynamicExportsForPeriod(yrStart, yrEnd, seasonalBalance);\n",
    "\n",
    "else:\n",
    "    for y in range (yrStart, yrEnd+1):\n",
    "        runDynamicExportsForPeriod(y, y, seasonalBalance);\n",
    "  "
   ]
  },
  {
   "cell_type": "markdown",
   "metadata": {},
   "source": [
    "We now have a list of Task objects which can be started at will. First let's just check that they look like what you were expecting"
   ]
  },
  {
   "cell_type": "code",
   "execution_count": null,
   "metadata": {
    "collapsed": false
   },
   "outputs": [],
   "source": [
    "for t in TASKLIST:\n",
    "    print(t.config['description'])"
   ]
  },
  {
   "cell_type": "markdown",
   "metadata": {},
   "source": [
    "Start all of the tasks (or of course, go ahead and remove some from the list first if you don't want to)"
   ]
  },
  {
   "cell_type": "code",
   "execution_count": null,
   "metadata": {
    "collapsed": false
   },
   "outputs": [],
   "source": [
    "for t in TASKLIST:\n",
    "    print(t.config['description'])\n",
    "    t.start()"
   ]
  },
  {
   "cell_type": "code",
   "execution_count": null,
   "metadata": {
    "collapsed": true
   },
   "outputs": [],
   "source": [
    "for t in TASKLIST:\n",
    "    t.cancel()"
   ]
  },
  {
   "cell_type": "markdown",
   "metadata": {},
   "source": [
    "The tasks will now be running on the EE servers. Not necessarily all at once - how they're actually scheduled is out of our hands now, normally only one will actually run at once. \n",
    "\n",
    "So long as we have maintained a reference to these task objects (e.g. haven't re-run the task generator above and overwritten the variables), we can check their status:"
   ]
  },
  {
   "cell_type": "code",
   "execution_count": null,
   "metadata": {
    "collapsed": false
   },
   "outputs": [],
   "source": [
    "def formatInfo(taskStatus):\n",
    "    return taskStatus['description'] + \": \"+taskStatus['state']\n",
    "[formatInfo(t.status()) for t in TASKLIST]# if t.status()['state']=='FAILED']"
   ]
  },
  {
   "cell_type": "markdown",
   "metadata": {},
   "source": [
    "Alternatively, if we have lost our local Task objects we can re-retrieve from the server those which have actually been submitted - which will also show any other older tasks that are still recorded not just those that have just been created:"
   ]
  },
  {
   "cell_type": "code",
   "execution_count": null,
   "metadata": {
    "collapsed": false
   },
   "outputs": [],
   "source": [
    "ts = ee.batch.Task.list()\n",
    "ts"
   ]
  },
  {
   "cell_type": "markdown",
   "metadata": {},
   "source": [
    "If you need to cancel a task after start() has been called on it (whether it's running yet or not) then just do something like this to cancel all current tasks, or just call t.cancel() on the ones you want from the list"
   ]
  },
  {
   "cell_type": "code",
   "execution_count": null,
   "metadata": {
    "collapsed": true
   },
   "outputs": [],
   "source": [
    "[t.cancel() for t in ts[11:]]"
   ]
  },
  {
   "cell_type": "code",
   "execution_count": null,
   "metadata": {
    "collapsed": true
   },
   "outputs": [],
   "source": [
    "[t.cancel() for t in ts if t.active()]"
   ]
  },
  {
   "cell_type": "markdown",
   "metadata": {},
   "source": [
    "When the tasks have completed the files should be present in the specified cloud storage bucket. You can now download them directly from the web interface at https://console.cloud.google.com/storage/browser/BUCKET-NAME/ \n",
    "\n",
    "Or you can use the gsutil command line tools (much more convenient if there's lots). e.g.\n",
    "\n",
    "`gsutil -m mv gs://BUCKET-NAME/ZWE*.tif E:\\My\\Local\\Folder\\Path`\n",
    "\n",
    "Don't forget to delete them from the bucket after downloading (if not using mv) to avoid possible storage charges.\n",
    "\n"
   ]
  }
 ],
 "metadata": {
  "kernelspec": {
   "display_name": "Python 2",
   "language": "python",
   "name": "python2"
  },
  "language_info": {
   "codemirror_mode": {
    "name": "ipython",
    "version": 2
   },
   "file_extension": ".py",
   "mimetype": "text/x-python",
   "name": "python",
   "nbconvert_exporter": "python",
   "pygments_lexer": "ipython2",
   "version": "2.7.14"
  }
 },
 "nbformat": 4,
 "nbformat_minor": 2
}
