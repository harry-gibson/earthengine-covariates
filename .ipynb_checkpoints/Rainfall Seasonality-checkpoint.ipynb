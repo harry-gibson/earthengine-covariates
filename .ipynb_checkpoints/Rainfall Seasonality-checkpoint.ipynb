{
 "cells": [
  {
   "cell_type": "code",
   "execution_count": 2,
   "metadata": {
    "collapsed": false
   },
   "outputs": [],
   "source": [
    "import math"
   ]
  },
  {
   "cell_type": "code",
   "execution_count": 3,
   "metadata": {
    "collapsed": true
   },
   "outputs": [],
   "source": [
    "import ee\n",
    "ee.Initialize()"
   ]
  },
  {
   "cell_type": "code",
   "execution_count": 4,
   "metadata": {
    "collapsed": false
   },
   "outputs": [],
   "source": [
    "chirpsDaily = ee.ImageCollection(\"UCSB-CHG/CHIRPS/DAILY\")\n",
    "chirpsPentads = ee.ImageCollection(\"UCSB-CHG/CHIRPS/PENTAD\")\n",
    "\n",
    "chirpsInUse = chirpsPentads"
   ]
  },
  {
   "cell_type": "code",
   "execution_count": 5,
   "metadata": {
    "collapsed": true
   },
   "outputs": [],
   "source": [
    "CLOUDBUCKET = \"ee-oxford-upload\""
   ]
  },
  {
   "cell_type": "code",
   "execution_count": 6,
   "metadata": {
    "collapsed": false
   },
   "outputs": [
    {
     "data": {
      "text/plain": [
       "[1.0, 2.0, 3.0]"
      ]
     },
     "execution_count": 6,
     "metadata": {},
     "output_type": "execute_result"
    }
   ],
   "source": [
    "dependentVar = \"precipitation\"\n",
    "nCycles = 3\n",
    "cycles = ee.List.sequence(1, nCycles)\n",
    "cycles.getInfo()"
   ]
  },
  {
   "cell_type": "code",
   "execution_count": 7,
   "metadata": {
    "collapsed": false
   },
   "outputs": [],
   "source": [
    "cosNames = [\"cos_\" + str(i) for i in range(1, nCycles+1)]\n",
    "sinNames = [\"sin_\" + str(i) for i in range(1, nCycles+1)]\n",
    "independents = ['constant', 't']\n",
    "independents.extend(cosNames)\n",
    "independents.extend(sinNames)"
   ]
  },
  {
   "cell_type": "code",
   "execution_count": 8,
   "metadata": {
    "collapsed": false
   },
   "outputs": [
    {
     "data": {
      "text/plain": [
       "['constant', 't', 'cos_1', 'cos_2', 'cos_3', 'sin_1', 'sin_2', 'sin_3']"
      ]
     },
     "execution_count": 8,
     "metadata": {},
     "output_type": "execute_result"
    }
   ],
   "source": [
    "independents"
   ]
  },
  {
   "cell_type": "code",
   "execution_count": 9,
   "metadata": {
    "collapsed": false
   },
   "outputs": [],
   "source": [
    "# adds constant bands to an image, one for the time of year of this image \n",
    "# in terms of radians and another with constant value 1\n",
    "def addDependents(image):\n",
    "    years = image.date().difference('2000-01-01', 'year');\n",
    "    timeRadians = ee.Image(years.multiply(2 * math.pi)).rename(['t'])\n",
    "    constant = ee.Image(1)\n",
    "    return image.addBands(constant).addBands(timeRadians.float())\n",
    "\n",
    "# adds harmonic bands to the image, i.e. the cos(t) and sin(t) and cos(2t) and sin(2t)\n",
    "# of the image's time - i.e. these bands are again each constant values across an image\n",
    "def addHarmonics(frequencies):\n",
    "    def helper(image):\n",
    "        # make a constant value image with one band for each member of the frequencies list\n",
    "        # note that frequencies will be available to this returned function via a closure\n",
    "        freqsImg = ee.Image.constant(frequencies)\n",
    "        time = ee.Image(image).select('t')\n",
    "        cosines = time.multiply(freqsImg).cos().rename(cosNames)\n",
    "        sines = time.multiply(freqsImg).sin().rename(sinNames)\n",
    "        return image.addBands(cosines).addBands(sines)\n",
    "    return helper\n",
    "\n",
    "addHarmonicsFn = addHarmonics(cycles)"
   ]
  },
  {
   "cell_type": "code",
   "execution_count": 10,
   "metadata": {
    "collapsed": false
   },
   "outputs": [],
   "source": [
    "chirpsWithHarmonics = chirpsInUse.map(addDependents).map(addHarmonicsFn)"
   ]
  },
  {
   "cell_type": "code",
   "execution_count": 11,
   "metadata": {
    "collapsed": true
   },
   "outputs": [],
   "source": [
    "# not independents.append(dependentVar) - do this instead to make a copy so we \n",
    "# still have independents unmodified\n",
    "regressionBandList = independents + [dependentVar]"
   ]
  },
  {
   "cell_type": "code",
   "execution_count": 12,
   "metadata": {
    "collapsed": false
   },
   "outputs": [],
   "source": [
    "# select the bands: this is to ensure they're in the correct order as the reducer will expect the \n",
    "# independents to be in order and followed by the dependents, in the numbers specified\n",
    "orderedBands = chirpsWithHarmonics.select(regressionBandList)\n",
    "harmonicTrends = orderedBands.reduce(ee.Reducer.linearRegression(len(independents), 1))"
   ]
  },
  {
   "cell_type": "markdown",
   "metadata": {},
   "source": [
    "The harmonicTrends output from the reducer is a two-banded array image, that is, every pixel in each band is an array with dimensions (numX, numY) i.e. number of independents * number of dependents, i.e. in this case 8x1 (one constant, one time band, 3 each cos and sin bands)\n",
    "\n",
    "The first band represents the coefficients of the linear regression and the second represents the rms of the residuals.\n",
    "\n",
    "Array images are quite awkward so first off make it back into a \"normal\" image where each pixel in each band has one value"
   ]
  },
  {
   "cell_type": "code",
   "execution_count": 13,
   "metadata": {
    "collapsed": true
   },
   "outputs": [],
   "source": [
    "# Turn the array image into an image with one band for each coefficient, i.e. 8 bands\n",
    "harmonicTrendCoefficients = harmonicTrends.select('coefficients').arrayProject([0]).arrayFlatten([independents])"
   ]
  },
  {
   "cell_type": "markdown",
   "metadata": {},
   "source": [
    "Now apply the model by multiplying the independent variables by their coefficients and adding them; add the fitted result prediction as a new band to the same image collection"
   ]
  },
  {
   "cell_type": "code",
   "execution_count": 14,
   "metadata": {
    "collapsed": false
   },
   "outputs": [],
   "source": [
    "# Add the result to the main image collection so now we have everything in that one collection\n",
    "fittedModel = chirpsWithHarmonics.map(\n",
    "    lambda img: img.addBands(\n",
    "        img.select(independents).multiply(harmonicTrendCoefficients).reduce('sum').rename(['fitted'])))\n"
   ]
  },
  {
   "cell_type": "code",
   "execution_count": 18,
   "metadata": {
    "collapsed": false
   },
   "outputs": [],
   "source": [
    "nationalBoundaries = ee.FeatureCollection(\"USDOS/LSIB/2013\")\n",
    "ISO3 = \"BWA\";\n",
    "geoms = nationalBoundaries.filterMetadata(\"iso_alpha3\", \"equals\", ISO3);\n",
    "bufferedboxes = geoms.map(lambda f : f.bounds().buffer(10000).bounds())\n",
    "roi = bufferedboxes.union(ee.ErrorMargin(10));"
   ]
  },
  {
   "cell_type": "code",
   "execution_count": 20,
   "metadata": {
    "collapsed": false
   },
   "outputs": [],
   "source": [
    "s = fittedModel.select(['fitted', 'precipitation'])#, roi, ee.Reducer.mean(), 10000)"
   ]
  },
  {
   "cell_type": "code",
   "execution_count": null,
   "metadata": {
    "collapsed": true
   },
   "outputs": [],
   "source": []
  },
  {
   "cell_type": "code",
   "execution_count": null,
   "metadata": {
    "collapsed": true
   },
   "outputs": [],
   "source": []
  },
  {
   "cell_type": "code",
   "execution_count": 49,
   "metadata": {
    "collapsed": false
   },
   "outputs": [],
   "source": [
    "years = chirps1.date().difference('2000-01-01', 'year')\n"
   ]
  },
  {
   "cell_type": "code",
   "execution_count": 57,
   "metadata": {
    "collapsed": false
   },
   "outputs": [],
   "source": [
    "timeRadians = ee.Image(years.multiply(2*math.pi))#.rename(['t'])"
   ]
  },
  {
   "cell_type": "code",
   "execution_count": 58,
   "metadata": {
    "collapsed": false
   },
   "outputs": [
    {
     "data": {
      "text/plain": [
       "{u'bands': [{u'crs': u'EPSG:4326',\n",
       "   u'crs_transform': [1.0, 0.0, 0.0, 0.0, 1.0, 0.0],\n",
       "   u'data_type': {u'max': -119.3700701493368,\n",
       "    u'min': -119.3700701493368,\n",
       "    u'precision': u'double',\n",
       "    u'type': u'PixelType'},\n",
       "   u'id': u'constant'}],\n",
       " u'type': u'Image'}"
      ]
     },
     "execution_count": 58,
     "metadata": {},
     "output_type": "execute_result"
    }
   ],
   "source": [
    "timeRadians.getInfo()"
   ]
  },
  {
   "cell_type": "code",
   "execution_count": null,
   "metadata": {
    "collapsed": true
   },
   "outputs": [],
   "source": []
  },
  {
   "cell_type": "code",
   "execution_count": 16,
   "metadata": {
    "collapsed": false
   },
   "outputs": [
    {
     "data": {
      "text/plain": [
       "[1, 2, 3]"
      ]
     },
     "execution_count": 16,
     "metadata": {},
     "output_type": "execute_result"
    }
   ],
   "source": [
    "l.getInfo()"
   ]
  },
  {
   "cell_type": "code",
   "execution_count": null,
   "metadata": {
    "collapsed": true
   },
   "outputs": [],
   "source": []
  }
 ],
 "metadata": {
  "kernelspec": {
   "display_name": "Python 2",
   "language": "python",
   "name": "python2"
  },
  "language_info": {
   "codemirror_mode": {
    "name": "ipython",
    "version": 2
   },
   "file_extension": ".py",
   "mimetype": "text/x-python",
   "name": "python",
   "nbconvert_exporter": "python",
   "pygments_lexer": "ipython2",
   "version": "2.7.14"
  }
 },
 "nbformat": 4,
 "nbformat_minor": 2
}
