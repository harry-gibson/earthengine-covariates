{
 "cells": [
  {
   "cell_type": "markdown",
   "metadata": {},
   "source": [
    "#  Earth Engine CHAI covariate extraction script"
   ]
  },
  {
   "cell_type": "markdown",
   "metadata": {},
   "source": [
    "This notebook contains code to extract certain covariates from Earth Engine for CHAI modelling work by/for Kate Battle.\n",
    "\n",
    "This is because some of her models require data at a higher resolution than the high-quality gapfilled data we already hold from sources such as MODIS. \n",
    "\n",
    "The data have been requested at 100m resolution where possible and this means using a data source such as Landsat. \n",
    "\n",
    "The code here only extracts the data from Earth Engine - it doesn't perform any enhancements such as gapfilling."
   ]
  },
  {
   "cell_type": "markdown",
   "metadata": {},
   "source": [
    "### Setup\n",
    "\n",
    "To run this code you need to have the Earth Engine Python API installed, configured, authenticated, and available to the Python interpreter you're using as a notebook server. \n",
    "\n",
    "First you need a google account that's whitelisted to use Earth Engine. This is straightforward - just send a request using the links on the Earth Engine homepage (and your own Google account).\n",
    "\n",
    "Next, instructions for installing and authenticating the API  manually are here:\n",
    "https://developers.google.com/earth-engine/python_install_manual. Also see here for some further instructions on authorisation: https://github.com/google/earthengine-api/blob/master/python/examples/ipynb/authorize_notebook_server.ipynb\n",
    "\n",
    "Or you can use a hosted or a local Docker deployment with everything set up. Instructions here: https://developers.google.com/earth-engine/python_install\n",
    "\n"
   ]
  },
  {
   "cell_type": "markdown",
   "metadata": {},
   "source": [
    "#### Load and test the API"
   ]
  },
  {
   "cell_type": "code",
   "execution_count": 232,
   "metadata": {
    "collapsed": true
   },
   "outputs": [],
   "source": [
    "# Attempt to load the EE API\n",
    "import ee\n",
    "ee.Initialize()"
   ]
  },
  {
   "cell_type": "code",
   "execution_count": 2,
   "metadata": {
    "collapsed": true
   },
   "outputs": [],
   "source": [
    "# Test the API setup - if this doesn't generate an error then you're good to go\n",
    "image = ee.Image('srtm90_v4')\n",
    "print(image.getInfo())"
   ]
  },
  {
   "cell_type": "markdown",
   "metadata": {},
   "source": [
    "#### Open the Earth Engine datasets we'll be using"
   ]
  },
  {
   "cell_type": "code",
   "execution_count": 235,
   "metadata": {
    "collapsed": true
   },
   "outputs": [],
   "source": [
    "# Landsat 8 - only available from 2014 onwards\n",
    "ls8_toa = ee.ImageCollection(\"LANDSAT/LC8_L1T_TOA\")\n",
    "ls8_raw = ee.ImageCollection(\"LANDSAT/LC8_L1T\")\n",
    "# Emissivity and modis landcover are used in the estimation of LST from brightness temp\n",
    "asterEmis = ee.Image(\"NASA/ASTER_GED/AG100_003\")\n",
    "modis_landcover = ee.ImageCollection(\"MODIS/051/MCD12Q1\")\n",
    "# CHIRPS rainfall\n",
    "chirps = ee.ImageCollection(\"UCSB-CHG/CHIRPS/PENTAD\")\n",
    "# Hydrosheds DTM is gapfilled and corrected relative to the raw SRTM\n",
    "elev = ee.Image(\"WWF/HydroSHEDS/03VFDEM\")\n",
    "# Not the best set of national boundaries but the only one I can find already in EE and ok for a bbox\n",
    "nationalBoundaries = ee.FeatureCollection(\"USDOS/LSIB/2013\")"
   ]
  },
  {
   "cell_type": "markdown",
   "metadata": {},
   "source": [
    "#### Configure what we are going to extract\n",
    "Landsat 8 is available from 2014.\n",
    "\n",
    "For some countries Kate wants a synoptic file over the period of interest, others she wants one file per year.\n",
    "\n",
    "Here we've only implemented a national bounding box as the unit to extract by, we could equally do subnational given a source of bbox coordinates.\n",
    "\n",
    "We're exporting at 100m resolution and to a cloud storage bucket setup specifically for our group - change these values if required (e.g. if you don't have access to that bucket)"
   ]
  },
  {
   "cell_type": "code",
   "execution_count": 256,
   "metadata": {
    "collapsed": false
   },
   "outputs": [],
   "source": [
    "# Specify the years from which to harvest landsat 8 data, all the data from these years will be used \n",
    "# to create the seasonal composites which are then averaged\n",
    "yrStart = 2016;\n",
    "yrEnd = 2017;\n",
    "\n",
    "# Specify whether to output a file for each year in the range or one averaged file\n",
    "summariseToSynoptic = False;\n",
    "\n",
    "# Specify the country to export data for as an ISO3 code. The export will cover the bounding box \n",
    "# of this country with a 10km buffer to allow for data discrepancies.\n",
    "ISO3_TO_EXPORT = \"MOZ\";\n",
    "\n",
    "# Export resolution in metres (so, in WGS84 the output resolution will vary with latitude)\n",
    "EXPORT_RES_M = 100;\n",
    "# Use a different cloud storage bucket if you need to.\n",
    "CLOUDBUCKET = \"ee-oxford-upload\";"
   ]
  },
  {
   "cell_type": "markdown",
   "metadata": {},
   "source": [
    "This next cell configures how the Earth Engine Landsat compositor algorithm runs - this attempts to make a cloud-free image for a given period of interest by ranking all the available images in that period based on a \"cloud score\" and then picking (at each pixel) the best value.\n",
    "\n",
    "(This means that every pixel of the output comes from a different input image, and time)"
   ]
  },
  {
   "cell_type": "code",
   "execution_count": 236,
   "metadata": {
    "collapsed": true
   },
   "outputs": [],
   "source": [
    "# PROBABLY DON'T NEED TO CHANGE ANYTHING IN THIS CELL\n",
    "\n",
    "# Specify the parameters for the ee.Algorithms.Landsat.simpleComposite algorithm. \n",
    "# You can add the \"Seasonal best\" map to the map viewer to see how well it's done, and tune these\n",
    "# to suit. \n",
    "LS_CLOUD_SCORE_RANGE = 4;\n",
    "LS_CLOUD_PERCENTILE = 5;\n",
    "\n",
    "TASKLIST = []"
   ]
  },
  {
   "cell_type": "markdown",
   "metadata": {},
   "source": [
    "### Code setup\n",
    "Run all the following cells until the next note, to define the required functions"
   ]
  },
  {
   "cell_type": "code",
   "execution_count": 135,
   "metadata": {
    "collapsed": false
   },
   "outputs": [],
   "source": [
    "# Get a geometry for the area of interest \n",
    "geoms = nationalBoundaries.filterMetadata(\"iso_alpha3\", \"equals\", ISO3_TO_EXPORT);\n",
    "bufferedboxes = geoms.map(lambda f: (f.bounds().buffer(10000).bounds()))\n",
    "  \n",
    "combinedboxes = bufferedboxes.union(ee.ErrorMargin(10)).first()\n",
    "#https://groups.google.com/d/msg/google-earth-engine-developers/TViMuO3ObeM/cpNNg-eMDAAJ\n",
    "combinedboxesCoordsBizarrelyRequired = combinedboxes.getInfo()['geometry']['coordinates']"
   ]
  },
  {
   "cell_type": "code",
   "execution_count": 149,
   "metadata": {
    "collapsed": false
   },
   "outputs": [],
   "source": [
    "# A function to compute Enhanced Vegetation Index (EVI)  on Landsat 8 imagery\n",
    "def computeEVI(image): \n",
    "    # The constants used to define EVI\n",
    "    C1 = 6.0;\n",
    "    C2 = 7.5;\n",
    "    L = 1.0;\n",
    "    G = 2.5;\n",
    "\n",
    "    # Select the three bands we need\n",
    "    red = image.select('B4');\n",
    "    nir = image.select('B5');\n",
    "    blue = image.select('B2');\n",
    "\n",
    "    # Compute EVI\n",
    "    evi = (nir.subtract(red)\n",
    "        .divide(nir.add(red.multiply(C1)).subtract(blue.multiply(C2)).add(L))\n",
    "        .multiply(G)\n",
    "        .clamp(0.0, 1.0))\n",
    "\n",
    "    # Rename the resulting band\n",
    "    return (evi.rename(['evi'])\n",
    "    .set('system:time_start', image.get('system:time_start')));\n"
   ]
  },
  {
   "cell_type": "code",
   "execution_count": 150,
   "metadata": {
    "collapsed": false
   },
   "outputs": [],
   "source": [
    "# A function to compute Tasseled Cap Brightness (TCB) on Landsat 8 imagery\n",
    "\n",
    "# Coefficients from:\n",
    "# Baig, M. H. A., et al. (2014). \"Derivation of a tasselled cap transformation \n",
    "# based on Landsat 8 at-satellite reflectance.\" Remote Sensing Letters 5(5): 423-431.\n",
    "def computeTCB(image):\n",
    "\n",
    "    # The constants used to define EVI\n",
    "    coef1 = 0.3029; # coef for blue (band 2)\n",
    "    coef2 = 0.2786; # coef for green (band 3)\n",
    "    coef3 = 0.4733; # coef for red (band 4)\n",
    "    coef4 = 0.5599; # coef for NIR (band 5)\n",
    "    coef5 = 0.5080; # coef for SWIR_1 (band 6)\n",
    "    coef6 = 0.1872; # coef for SWIR_2 (band 7)\n",
    "\n",
    "\n",
    "    # Select the bands we need\n",
    "    blue = image.select('B2');\n",
    "    green = image.select('B3');\n",
    "    red = image.select('B4');\n",
    "    nir = image.select('B5');\n",
    "    swir1 = image.select('B6');\n",
    "    swir2 = image.select('B7');\n",
    "\n",
    "    tcb = (blue.multiply(coef1)\n",
    "    .add(green.multiply(coef2))\n",
    "    .add(red.multiply(coef3))\n",
    "    .add(nir.multiply(coef4))\n",
    "    .add(swir1.multiply(coef5))\n",
    "    .add(swir2.multiply(coef6)));\n",
    "\n",
    "    # Rename the resulting band\n",
    "    return (tcb.rename(['tcb'])\n",
    "    .set('system:time_start', image.get('system:time_start')));\n"
   ]
  },
  {
   "cell_type": "code",
   "execution_count": 151,
   "metadata": {
    "collapsed": false
   },
   "outputs": [],
   "source": [
    "# A function to compute Tasseled Cap Greenness (TCG) on Landsat 8 imagery\n",
    "#\n",
    "# Coefficients from:\n",
    "# Baig, M. H. A., et al. (2014). \"Derivation of a tasselled cap transformation \n",
    "# based on Landsat 8 at-satellite reflectance.\" Remote Sensing Letters 5(5): 423-431.\n",
    "def computeTCG(image):\n",
    "    # The constants used to define TCG\n",
    "    coef1 = -0.2941; # coef for blue (band 2)\n",
    "    coef2 = -0.243; # coef for green (band 3)\n",
    "    coef3 = -0.5424; # coef for red (band 4)\n",
    "    coef4 = 0.7276; # coef for NIR (band 5)\n",
    "    coef5 = 0.0713; # coef for SWIR_1 (band 6)\n",
    "    coef6 = -0.1608; # coef for SWIR_2 (band 7)\n",
    "\n",
    "    # Select the bands we need\n",
    "    blue = image.select('B2');\n",
    "    green = image.select('B3');\n",
    "    red = image.select('B4');\n",
    "    nir = image.select('B5');\n",
    "    swir1 = image.select('B6');\n",
    "    swir2 = image.select('B7');\n",
    "\n",
    "    tcg = (blue.multiply(coef1)\n",
    "    .add(green.multiply(coef2))\n",
    "    .add(red.multiply(coef3))\n",
    "    .add(nir.multiply(coef4))\n",
    "    .add(swir1.multiply(coef5))\n",
    "    .add(swir2.multiply(coef6)));\n",
    "\n",
    "    # Rename the resulting band\n",
    "    return (tcg.rename(['tcg'])\n",
    "    .set('system:time_start', image.get('system:time_start')));\n"
   ]
  },
  {
   "cell_type": "code",
   "execution_count": 152,
   "metadata": {
    "collapsed": false
   },
   "outputs": [],
   "source": [
    "# A function to compute Tasseled Cap Wetness (TCW) on Landsat 8 imagery\n",
    "#\n",
    "# Coefficients from:\n",
    "# Baig, M. H. A., et al. (2014). \"Derivation of a tasselled cap transformation \n",
    "# based on Landsat 8 at-satellite reflectance.\" Remote Sensing Letters 5(5): 423-431.\n",
    "def computeTCW(image):\n",
    "    # The constants used to define EVI\n",
    "    coef1 = 0.1511; # coef for blue (band 2)\n",
    "    coef2 = 0.1973; # coef for green (band 3)\n",
    "    coef3 = 0.3283; # coef for red (band 4)\n",
    "    coef4 = 0.3407; # coef for NIR (band 5)\n",
    "    coef5 = -0.7117; # coef for SWIR_1 (band 6)\n",
    "    coef6 = -0.4559; # coef for SWIR_2 (band 7)\n",
    "\n",
    "\n",
    "    # Select the bands we need\n",
    "    blue = image.select('B2');\n",
    "    green = image.select('B3');\n",
    "    red = image.select('B4');\n",
    "    nir = image.select('B5');\n",
    "    swir1 = image.select('B6');\n",
    "    swir2 = image.select('B7');\n",
    "\n",
    "    tcw = (blue.multiply(coef1)\n",
    "    .add(green.multiply(coef2))\n",
    "    .add(red.multiply(coef3))\n",
    "    .add(nir.multiply(coef4))\n",
    "    .add(swir1.multiply(coef5))\n",
    "    .add(swir2.multiply(coef6)));\n",
    "\n",
    "    # Rename the resulting band\n",
    "    return (tcw.rename(['tcw'])\n",
    "    .set('system:time_start', image.get('system:time_start')));\n"
   ]
  },
  {
   "cell_type": "code",
   "execution_count": 154,
   "metadata": {
    "collapsed": true
   },
   "outputs": [],
   "source": [
    "# Map MODIS MCD12Q1 landcover to emissivity for use in calculating land surface temperature \n",
    "# from landsat brightness temperatures\n",
    "# Uses the NPP landcover classification layer as described at:\n",
    "# https:#lpdaac.usgs.gov/dataset_discovery/modis/modis_products_table/mcd12q1\n",
    "# and emissivity values estimated from these by sticking a finger into the air in the \n",
    "# vicinity of https:#fromgistors.blogspot.com/2016/09/estimation-of-land-surface-temperature.html\n",
    "def NPPtoEmissivity(image):\n",
    "    # NPP MODIS classification is \n",
    "    # 0 - water\n",
    "    # 1-5 - types of forest\n",
    "    # 6 - grass\n",
    "    # 7 - non-vegetated\n",
    "    # 8 - urban\n",
    "    lcClasses =   [0,1,2,3,4,5,6,7,8,254,255];\n",
    "    \n",
    "    # emissivity numbers are a matter of guesstimation. Using values from:\n",
    "    # https:#fromgistors.blogspot.com/2016/09/estimation-of-land-surface-temperature.html\n",
    "    # which gives\n",
    "    # water 0.98\n",
    "    # Built-up\t0.94\n",
    "    # Vegetation\t0.98\n",
    "    # Bare soil\t0.93\n",
    "    \n",
    "    # multiply by 100 as the remap function needs ints\n",
    "    emisClasses = [98, 98, 98, 98, 98, 98, 98, 93, 94, 25400, 25500];\n",
    "    # Note that \"remap\" is the EE equivalent of \"reclass\". \"Land_Cover_Type_4\" is the name \n",
    "    # of the NPP band in the MODIS image\n",
    "    emisMap = image.remap(lcClasses, emisClasses, None, 'Land_Cover_Type_4');\n",
    "    return emisMap.divide(100.0);\n"
   ]
  },
  {
   "cell_type": "code",
   "execution_count": 44,
   "metadata": {
    "collapsed": true
   },
   "outputs": [],
   "source": [
    "# Estimate Land Surface Temperature from (separately) bands 10 and 11 of the landsat image \n",
    "# (the brightness temperature). Uses the most recent modis landcover image (2013) and some \n",
    "# highly official coefficients to estimate emissivity.\n",
    "# NB the two bands give rather different values. Nobody knows which is less wrong.\n",
    "def brightnessToLst(image):\n",
    "    emis2013 = (modis_landcover\n",
    "        .filter(ee.Filter.calendarRange(2013,2013,\"year\"))\n",
    "        .map(NPPtoEmissivity)\n",
    "        .first());\n",
    "    emis2013 = ee.Image(emis2013);  \n",
    "    lst10 = (image.expression\n",
    "             (\n",
    "                'BT / (1 + (lambda * BT / plnk) * log(emis))', \n",
    "                {\n",
    "                  'BT': image.select('B10'),\n",
    "                  'lambda' : 10.8e-6,\n",
    "                  'plnk': 1.4388e-2,\n",
    "                  'emis': emis2013.select('remapped')\n",
    "                }\n",
    "            )\n",
    "        .select('B10')\n",
    "        .rename(['lst_band10'])\n",
    "    );\n",
    "    lst11 = (image.expression\n",
    "        (\n",
    "            'BT / (1 + (lambda * BT / plnk) * log(emis))', \n",
    "            {\n",
    "              'BT': image.select('B11'),\n",
    "              'lambda' : 12e-6,\n",
    "              'plnk': 1.4388e-2,\n",
    "              'emis': emis2013.select('remapped')\n",
    "            }\n",
    "        )\n",
    "        .select('B11')\n",
    "        .rename(['lst_band11'])\n",
    "    );\n",
    "    return image.addBands(lst10).addBands(lst11);\n"
   ]
  },
  {
   "cell_type": "code",
   "execution_count": 45,
   "metadata": {
    "collapsed": true
   },
   "outputs": [],
   "source": [
    "# Function to calculate evi, tcb, tcg, tcw, lst10, lst11 for a single landsat 8 image\n",
    "# Returns the input image with each of these indices added as a band named\n",
    "# \"evi\", \"tcb\", \"tcg\", \"tcw\", \"lst_band10\", and \"lst_band11\".\n",
    "# This uses the functions defined separately for each individual index, and is \n",
    "# provided as a convenience wrapper\n",
    "def calcIndices(img):\n",
    "    # Calculate NDVI as a band for optional sorting by that\n",
    "    ndvi = img.normalizedDifference(['B5', 'B4']).select([0], ['ndvi']);\n",
    "    # Calculate EVI using the function above\n",
    "    evi = computeEVI(img);\n",
    "    # Calculate the Tasseled Cap Bands using the functions above\n",
    "    tcb = computeTCB(img);\n",
    "    # tcbINV = ee.Image(-1).multiply(tcb).select([0], ['tcbINV']);\n",
    "    tcg = computeTCG(img);\n",
    "    tcw = computeTCW(img);\n",
    "\n",
    "    # Add the bands to the image\n",
    "    img = img.addBands(ndvi);\n",
    "    img = img.addBands(evi);\n",
    "    img = img.addBands(tcb);\n",
    "    # img = img.addBands(tcbINV);\n",
    "    img = img.addBands(tcg);\n",
    "    img = img.addBands(tcw);\n",
    "    # the temperature function adds the bands to the image rather than returning the bands alone\n",
    "    img = brightnessToLst(img);\n",
    "\n",
    "    return img;\n"
   ]
  },
  {
   "cell_type": "markdown",
   "metadata": {},
   "source": [
    "No matter whether we are outputting an image representing one or several years of data, the image will be calculated at the average of four seasonal subset images. Each of those seasonal images will be calculated from all the data for that season occurring in the year(s) of interest. This is to minimise the effect of seasonally-biased cloud cover meaning we could get more input images at a particular time of year (when, say, the ground may be less green)."
   ]
  },
  {
   "cell_type": "code",
   "execution_count": 144,
   "metadata": {
    "collapsed": false
   },
   "outputs": [],
   "source": [
    "# Function to calculate a seasonally-balanced annual mean image from the landsat 8 image stack.\n",
    "# The returned image is comprised of a mean of 4 seasonal (spring, summer, autumn, winter) images,\n",
    "# where each of those 4 images is generated using the simple cloud-avoiding compositor function for \n",
    "# all source images occurring in the specified years in the relevant season. The image has the evi, ndvi, \n",
    "# etc bands added.\n",
    "\n",
    "def landsatSeasonalSummary(yrFrom, yrTo):\n",
    "    # get the relevant year(s) data from the imagecollection\n",
    "    yearData = ls8_raw.filter(ee.Filter.calendarRange(yrFrom,yrTo,\"year\"));\n",
    "    # filter the input data into 4 seasons\n",
    "    spring = yearData.filter(ee.Filter.calendarRange(4,6,\"month\"));\n",
    "    summer = yearData.filter(ee.Filter.calendarRange(7,9,\"month\"));\n",
    "    autumn = yearData.filter(ee.Filter.calendarRange(10,12,\"month\"));\n",
    "    winter = yearData.filter(ee.Filter.calendarRange(1,3,\"month\"));\n",
    "\n",
    "    # calculate the indices for each season separately, using the built-in simple composite \n",
    "    # function to select the best cloud free value at each pixel from the available images\n",
    "    springBest = calcIndices(\n",
    "    ee.Algorithms.Landsat.simpleComposite(**{\n",
    "      'collection': spring,\n",
    "      'percentile': LS_CLOUD_PERCENTILE,\n",
    "      'cloudScoreRange': LS_CLOUD_SCORE_RANGE,\n",
    "      'asFloat':True,\n",
    "      'maxDepth':200\n",
    "    })\n",
    "    );\n",
    "    summerBest = calcIndices(\n",
    "    ee.Algorithms.Landsat.simpleComposite(**{\n",
    "      'collection': summer,\n",
    "      'percentile': LS_CLOUD_PERCENTILE,\n",
    "      'cloudScoreRange': LS_CLOUD_SCORE_RANGE,\n",
    "      'asFloat':True,\n",
    "      'maxDepth':200\n",
    "    })\n",
    "    );\n",
    "    autumnBest = calcIndices(\n",
    "    ee.Algorithms.Landsat.simpleComposite(**{\n",
    "      'collection': autumn,\n",
    "      'percentile': LS_CLOUD_PERCENTILE,\n",
    "      'cloudScoreRange': LS_CLOUD_SCORE_RANGE,\n",
    "      'asFloat':True,\n",
    "      'maxDepth':200\n",
    "    })\n",
    "    );\n",
    "    winterBest = calcIndices(\n",
    "    ee.Algorithms.Landsat.simpleComposite(**{\n",
    "      'collection': winter,\n",
    "      'percentile': LS_CLOUD_PERCENTILE,\n",
    "      'cloudScoreRange': LS_CLOUD_SCORE_RANGE,\n",
    "      'asFloat':True,\n",
    "      'maxDepth':200\n",
    "    })\n",
    "    );\n",
    "\n",
    "    # calculate a \"seasonal\" or balanced mean from the 4 seasonal images\n",
    "    # THIS IS OUR OUTPUT IMAGE - we just select the bands out from it\n",
    "    seasonalBest = (ee.ImageCollection\n",
    "    .fromImages([springBest,summerBest,autumnBest,winterBest])\n",
    "    .mean());\n",
    "    return seasonalBest;\n"
   ]
  },
  {
   "cell_type": "code",
   "execution_count": 127,
   "metadata": {
    "collapsed": false
   },
   "outputs": [],
   "source": [
    "# just a bit of sugar for calling the export to cloud storage routine\n",
    "def xFunc(desc, fnPrefix, img):\n",
    "    #task_config = {\n",
    "    #    'description': desc,\n",
    "    #    'scale': EXPORT_RES_M,  \n",
    "    #    'region': combinedboxes,\n",
    "    #    'bucket': CLOUDBUCKET,\n",
    "    #    'maxPixels': 400000000,\n",
    "    #    'fileNamePrefix': fnPrefix,\n",
    "    #    'crs': 'EPSH:4326'\n",
    "    #}\n",
    "\n",
    "    #task = ee.batch.Export.image(img, desc, task_config)\n",
    "\n",
    "    task = ee.batch.Export.image.toCloudStorage(**{\n",
    "        'image': img,\n",
    "        'description': desc,\n",
    "        'bucket': CLOUDBUCKET,\n",
    "        'fileNamePrefix': fnPrefix,\n",
    "        'scale': EXPORT_RES_M,\n",
    "        'maxPixels': 400000000,\n",
    "        'region': combinedboxesCoordsBizarrelyRequired,\n",
    "        'crs': 'EPSG:4326'\n",
    "    });\n",
    "    return task"
   ]
  },
  {
   "cell_type": "code",
   "execution_count": 189,
   "metadata": {
    "collapsed": false
   },
   "outputs": [],
   "source": [
    "def runCHAIExportsForYr(yrFrom, yrTo):\n",
    "    # create an output image representing the mean of the four seasonal images which are \n",
    "    # themselves drawn from that season's data in all the input years\n",
    "    seasonalBest = landsatSeasonalSummary(yrFrom, yrTo);\n",
    "    # for the output filename\n",
    "    yrPhrase = str(yrFrom) if yrFrom == yrTo else str(yrFrom) + \"-\" + str(yrTo);\n",
    "    \n",
    "    # all the landsat reflectance ones:\n",
    "    lsIndices = ['tcb', 'tcw', 'tcg', 'evi', 'ndvi'];\n",
    "    for idtag in lsIndices:\n",
    "        fnPrefix = (ISO3_TO_EXPORT + \"_\" + idtag + \"_ls8_\" +\n",
    "          str(EXPORT_RES_M) + \"m_\" + yrPhrase + \"_seasonal_mean\");\n",
    "        desc = ISO3_TO_EXPORT + \"-\" + idtag + \"-\" + yrPhrase + \"-exp\";\n",
    "        tmpImg = seasonalBest.select(idtag);\n",
    "        t = xFunc(desc, fnPrefix, tmpImg);\n",
    "        TASKLIST.append(t)\n",
    "    \n",
    "    # the temp ones need slight modification to output in celsius\n",
    "    tmpImg = seasonalBest.select('lst_band10').subtract(273.15);\n",
    "    fnPrefix = (ISO3_TO_EXPORT + '_lsTemp10_ls8_' + str(EXPORT_RES_M)\n",
    "                + \"m_\" + yrPhrase + '_seasonal_mean');\n",
    "    desc = ISO3_TO_EXPORT + \"-\" + 'lsTemp10' + \"-\" + yrPhrase + \"-exp\";\n",
    "    t = xFunc(desc, fnPrefix, tmpImg);\n",
    "    TASKLIST.append(t)\n",
    "    \n",
    "    tmpImg = seasonalBest.select('lst_band11').subtract(273.15);\n",
    "    fnPrefix = (ISO3_TO_EXPORT + '_lsTemp11_ls8_' + str(EXPORT_RES_M) \n",
    "                + \"m_\" + yrPhrase + '_seasonal_mean');\n",
    "    desc = ISO3_TO_EXPORT + \"-\" + 'lsTemp11' + \"-\" + yrPhrase + \"-exp\";\n",
    "    t = xFunc(desc, fnPrefix, tmpImg);\n",
    "    TASKLIST.append(t)\n",
    "\n",
    "    # we aren't using brightness temps\n",
    "    #tmpImg = seasonalBest.select('B10').subtract(273.15);\n",
    "    #fnPrefix = (ISO3_TO_EXPORT + '_bTemp10_ls8_' + EXPORT_RES_M \n",
    "    #            + \"m_\" + yrPhrase + '_seasonal_mean');\n",
    "    #desc = ISO3_TO_EXPORT + \"-\" + 'bTemp10' + \"-\" + yrPhrase + \"-exp\";\n",
    "    #xFunc(desc, fnPrefix, tmpImg);\n",
    "    \n",
    "    #tmpImg = seasonalBest.select('B11').subtract(273.15);\n",
    "    #fnPrefix = (ISO3_TO_EXPORT + '_bTemp11_ls8_' + EXPORT_RES_M \n",
    "    #            + \"m_\" + yrPhrase + '_seasonal_mean');\n",
    "    #desc = ISO3_TO_EXPORT + \"-\" + 'bTemp11' + \"-\" + yrPhrase + \"-exp\";\n",
    "    #xFunc(desc, fnPrefix, tmpImg);\n",
    "\n",
    "    \n",
    "    # Summarise the CHIRPS rainfall data: we need to do annual SUM with this not annual MEAN\n",
    "    chirpsImgs = [];\n",
    "    for y in range (yrFrom, yrTo+1):\n",
    "        chirpsYr = chirps.filter(ee.Filter.calendarRange(y, y, \"year\")).sum();\n",
    "        chirpsImgs.append(chirpsYr);\n",
    "    \n",
    "    chirpsMean = ee.ImageCollection.fromImages(chirpsImgs).mean();\n",
    "    # Map.addLayer(chirps2014,{palette:\"FF0000,0000FF\",min:0,max:3000},'2014');\n",
    "    fnPrefix = (ISO3_TO_EXPORT + '_chirps_' + str(EXPORT_RES_M) \n",
    "                + 'm_' + yrPhrase + '_annual_average');\n",
    "    desc = ISO3_TO_EXPORT + \"-\" + 'chirps' + \"-\" + yrPhrase + \"-exp\";\n",
    "    t = xFunc(desc, fnPrefix, chirpsMean);\n",
    "    TASKLIST.append(t)\n"
   ]
  },
  {
   "cell_type": "markdown",
   "metadata": {},
   "source": [
    "# Initialise and run the exports!\n",
    "This next cell is the one that will actually build the export requests for each covariate and year. The requests are accumulated as Task objects which are queued but not started yet. Run this cell."
   ]
  },
  {
   "cell_type": "code",
   "execution_count": 257,
   "metadata": {
    "collapsed": false
   },
   "outputs": [],
   "source": [
    "TASKLIST = []\n",
    "# Elevation we just export as-is (barring the resolution upsampling)\n",
    "#print(elev.projection());\n",
    "fnPrefix = ISO3_TO_EXPORT + '_hydrosheds_elevation_' + str(EXPORT_RES_M) + 'm';\n",
    "desc = ISO3_TO_EXPORT + '-' + 'elev-exp';\n",
    "t = xFunc(desc, fnPrefix, elev);\n",
    "TASKLIST.append(t)\n",
    "\n",
    "if (summariseToSynoptic):\n",
    "    runCHAIExportsForYr(yrStart, yrEnd);\n",
    "\n",
    "else:\n",
    "    for y in range (yrStart, yrEnd+1):\n",
    "        runCHAIExportsForYr(y, y);\n",
    "  "
   ]
  },
  {
   "cell_type": "markdown",
   "metadata": {},
   "source": [
    "Now just check that they look like what you were expecting"
   ]
  },
  {
   "cell_type": "code",
   "execution_count": 258,
   "metadata": {
    "collapsed": false
   },
   "outputs": [
    {
     "data": {
      "text/plain": [
       "[<Task EXPORT_IMAGE: MOZ-elev-exp (UNSUBMITTED)>,\n",
       " <Task EXPORT_IMAGE: MOZ-tcb-2016-exp (UNSUBMITTED)>,\n",
       " <Task EXPORT_IMAGE: MOZ-tcw-2016-exp (UNSUBMITTED)>,\n",
       " <Task EXPORT_IMAGE: MOZ-tcg-2016-exp (UNSUBMITTED)>,\n",
       " <Task EXPORT_IMAGE: MOZ-evi-2016-exp (UNSUBMITTED)>,\n",
       " <Task EXPORT_IMAGE: MOZ-ndvi-2016-exp (UNSUBMITTED)>,\n",
       " <Task EXPORT_IMAGE: MOZ-lsTemp10-2016-exp (UNSUBMITTED)>,\n",
       " <Task EXPORT_IMAGE: MOZ-lsTemp11-2016-exp (UNSUBMITTED)>,\n",
       " <Task EXPORT_IMAGE: MOZ-chirps-2016-exp (UNSUBMITTED)>,\n",
       " <Task EXPORT_IMAGE: MOZ-tcb-2017-exp (UNSUBMITTED)>,\n",
       " <Task EXPORT_IMAGE: MOZ-tcw-2017-exp (UNSUBMITTED)>,\n",
       " <Task EXPORT_IMAGE: MOZ-tcg-2017-exp (UNSUBMITTED)>,\n",
       " <Task EXPORT_IMAGE: MOZ-evi-2017-exp (UNSUBMITTED)>,\n",
       " <Task EXPORT_IMAGE: MOZ-ndvi-2017-exp (UNSUBMITTED)>,\n",
       " <Task EXPORT_IMAGE: MOZ-lsTemp10-2017-exp (UNSUBMITTED)>,\n",
       " <Task EXPORT_IMAGE: MOZ-lsTemp11-2017-exp (UNSUBMITTED)>,\n",
       " <Task EXPORT_IMAGE: MOZ-chirps-2017-exp (UNSUBMITTED)>]"
      ]
     },
     "execution_count": 258,
     "metadata": {},
     "output_type": "execute_result"
    }
   ],
   "source": [
    "TASKLIST"
   ]
  },
  {
   "cell_type": "markdown",
   "metadata": {},
   "source": [
    "Start all of the tasks (or of course, remove some if you don't want to)"
   ]
  },
  {
   "cell_type": "code",
   "execution_count": 261,
   "metadata": {
    "collapsed": false
   },
   "outputs": [
    {
     "name": "stdout",
     "output_type": "stream",
     "text": [
      "MOZ-elev-exp\n",
      "MOZ-tcb-2016-exp\n",
      "MOZ-tcw-2016-exp\n",
      "MOZ-tcg-2016-exp\n",
      "MOZ-evi-2016-exp\n",
      "MOZ-ndvi-2016-exp\n",
      "MOZ-lsTemp10-2016-exp\n",
      "MOZ-lsTemp11-2016-exp\n",
      "MOZ-chirps-2016-exp\n",
      "MOZ-tcb-2017-exp\n",
      "MOZ-tcw-2017-exp\n",
      "MOZ-tcg-2017-exp\n",
      "MOZ-evi-2017-exp\n",
      "MOZ-ndvi-2017-exp\n",
      "MOZ-lsTemp10-2017-exp\n",
      "MOZ-lsTemp11-2017-exp\n",
      "MOZ-chirps-2017-exp\n"
     ]
    }
   ],
   "source": [
    "for t in TASKLIST:\n",
    "    print(t.config['description'])\n",
    "    t.start()"
   ]
  },
  {
   "cell_type": "markdown",
   "metadata": {},
   "source": [
    "The tasks will now be running on the EE servers. Not necessarily all at once - how they're actually scheduled is out of our hands now. But you can check their status on the task objects:"
   ]
  },
  {
   "cell_type": "code",
   "execution_count": null,
   "metadata": {
    "collapsed": false
   },
   "outputs": [],
   "source": [
    "[t.status() for t in TASKLIST]"
   ]
  },
  {
   "cell_type": "markdown",
   "metadata": {},
   "source": [
    "or re-retrieve them from the server - which will also show any other older tasks that are still recorded not just those that have just been created"
   ]
  },
  {
   "cell_type": "code",
   "execution_count": 270,
   "metadata": {
    "collapsed": false
   },
   "outputs": [],
   "source": [
    "ts = ee.batch.Task.list()"
   ]
  },
  {
   "cell_type": "code",
   "execution_count": 271,
   "metadata": {
    "collapsed": false
   },
   "outputs": [
    {
     "data": {
      "text/plain": [
       "[<Task EXPORT_IMAGE: MOZ-chirps-2017-exp (COMPLETED)>,\n",
       " <Task EXPORT_IMAGE: MOZ-lsTemp11-2017-exp (FAILED)>,\n",
       " <Task EXPORT_IMAGE: MOZ-lsTemp10-2017-exp (FAILED)>,\n",
       " <Task EXPORT_IMAGE: MOZ-ndvi-2017-exp (FAILED)>,\n",
       " <Task EXPORT_IMAGE: MOZ-evi-2017-exp (FAILED)>,\n",
       " <Task EXPORT_IMAGE: MOZ-tcg-2017-exp (FAILED)>,\n",
       " <Task EXPORT_IMAGE: MOZ-tcw-2017-exp (FAILED)>,\n",
       " <Task EXPORT_IMAGE: MOZ-tcb-2017-exp (FAILED)>,\n",
       " <Task EXPORT_IMAGE: MOZ-chirps-2016-exp (COMPLETED)>,\n",
       " <Task EXPORT_IMAGE: MOZ-lsTemp11-2016-exp (COMPLETED)>,\n",
       " <Task EXPORT_IMAGE: MOZ-lsTemp10-2016-exp (COMPLETED)>,\n",
       " <Task EXPORT_IMAGE: MOZ-ndvi-2016-exp (COMPLETED)>,\n",
       " <Task EXPORT_IMAGE: MOZ-evi-2016-exp (COMPLETED)>,\n",
       " <Task EXPORT_IMAGE: MOZ-tcg-2016-exp (COMPLETED)>,\n",
       " <Task EXPORT_IMAGE: MOZ-tcw-2016-exp (COMPLETED)>,\n",
       " <Task EXPORT_IMAGE: MOZ-tcb-2016-exp (COMPLETED)>,\n",
       " <Task EXPORT_IMAGE: MOZ-elev-exp (COMPLETED)>,\n",
       " <Task EXPORT_IMAGE: GTM-chirps-2014-2016-exp (COMPLETED)>,\n",
       " <Task EXPORT_IMAGE: GTM-lsTemp11-2014-2016-exp (COMPLETED)>,\n",
       " <Task EXPORT_IMAGE: GTM-lsTemp10-2014-2016-exp (COMPLETED)>,\n",
       " <Task EXPORT_IMAGE: GTM-ndvi-2014-2016-exp (COMPLETED)>,\n",
       " <Task EXPORT_IMAGE: GTM-evi-2014-2016-exp (COMPLETED)>,\n",
       " <Task EXPORT_IMAGE: GTM-tcg-2014-2016-exp (COMPLETED)>,\n",
       " <Task EXPORT_IMAGE: GTM-tcw-2014-2016-exp (COMPLETED)>,\n",
       " <Task EXPORT_IMAGE: GTM-tcb-2014-2016-exp (COMPLETED)>,\n",
       " <Task EXPORT_IMAGE: GTM-elev-exp (COMPLETED)>,\n",
       " <Task EXPORT_IMAGE: ZWE-chirps-2016-exp (COMPLETED)>,\n",
       " <Task EXPORT_IMAGE: ZWE-lsTemp11-2016-exp (COMPLETED)>,\n",
       " <Task EXPORT_IMAGE: ZWE-lsTemp10-2016-exp (COMPLETED)>,\n",
       " <Task EXPORT_IMAGE: ZWE-ndvi-2016-exp (COMPLETED)>,\n",
       " <Task EXPORT_IMAGE: ZWE-evi-2016-exp (COMPLETED)>,\n",
       " <Task EXPORT_IMAGE: ZWE-tcg-2016-exp (COMPLETED)>,\n",
       " <Task EXPORT_IMAGE: ZWE-tcw-2016-exp (COMPLETED)>,\n",
       " <Task EXPORT_IMAGE: ZWE-tcb-2016-exp (COMPLETED)>,\n",
       " <Task EXPORT_IMAGE: ZWE-chirps-2015-exp (COMPLETED)>,\n",
       " <Task EXPORT_IMAGE: ZWE-lsTemp11-2015-exp (COMPLETED)>,\n",
       " <Task EXPORT_IMAGE: ZWE-lsTemp10-2015-exp (COMPLETED)>,\n",
       " <Task EXPORT_IMAGE: ZWE-ndvi-2015-exp (COMPLETED)>,\n",
       " <Task EXPORT_IMAGE: ZWE-evi-2015-exp (COMPLETED)>,\n",
       " <Task EXPORT_IMAGE: ZWE-tcg-2015-exp (COMPLETED)>,\n",
       " <Task EXPORT_IMAGE: ZWE-tcw-2015-exp (COMPLETED)>,\n",
       " <Task EXPORT_IMAGE: ZWE-tcb-2015-exp (COMPLETED)>,\n",
       " <Task EXPORT_IMAGE: ZWE-chirps-2014-exp (COMPLETED)>,\n",
       " <Task EXPORT_IMAGE: ZWE-lsTemp11-2014-exp (COMPLETED)>,\n",
       " <Task EXPORT_IMAGE: ZWE-lsTemp10-2014-exp (COMPLETED)>,\n",
       " <Task EXPORT_IMAGE: ZWE-ndvi-2014-exp (COMPLETED)>,\n",
       " <Task EXPORT_IMAGE: ZWE-evi-2014-exp (COMPLETED)>,\n",
       " <Task EXPORT_IMAGE: ZWE-tcg-2014-exp (COMPLETED)>,\n",
       " <Task EXPORT_IMAGE: ZWE-tcw-2014-exp (COMPLETED)>,\n",
       " <Task EXPORT_IMAGE: ZWE-tcb-2014-exp (COMPLETED)>,\n",
       " <Task EXPORT_IMAGE: ZWE-elev-exp (COMPLETED)>,\n",
       " <Task EXPORT_IMAGE: ZWE-lsTemp10-2016-exp (CANCELLED)>,\n",
       " <Task EXPORT_IMAGE: ZWE-ndvi-2016-exp (CANCELLED)>,\n",
       " <Task EXPORT_IMAGE: ZWE-evi-2016-exp (CANCELLED)>,\n",
       " <Task EXPORT_IMAGE: ZWE-tcg-2016-exp (CANCELLED)>,\n",
       " <Task EXPORT_IMAGE: ZWE-tcw-2016-exp (CANCELLED)>,\n",
       " <Task EXPORT_IMAGE: ZWE-tcb-2016-exp (CANCELLED)>,\n",
       " <Task EXPORT_IMAGE: ZWE-chirps-2015-exp (CANCELLED)>,\n",
       " <Task EXPORT_IMAGE: ZWE-lsTemp11-2015-exp (CANCELLED)>,\n",
       " <Task EXPORT_IMAGE: ZWE-lsTemp10-2015-exp (CANCELLED)>,\n",
       " <Task EXPORT_IMAGE: ZWE-ndvi-2015-exp (CANCELLED)>,\n",
       " <Task EXPORT_IMAGE: ZWE-evi-2015-exp (CANCELLED)>,\n",
       " <Task EXPORT_IMAGE: ZWE-tcg-2015-exp (CANCELLED)>,\n",
       " <Task EXPORT_IMAGE: ZWE-tcw-2015-exp (CANCELLED)>,\n",
       " <Task EXPORT_IMAGE: ZWE-tcb-2015-exp (CANCELLED)>,\n",
       " <Task EXPORT_IMAGE: ZWE-chirps-2014-exp (CANCELLED)>,\n",
       " <Task EXPORT_IMAGE: ZWE-lsTemp11-2014-exp (CANCELLED)>,\n",
       " <Task EXPORT_IMAGE: ZWE-lsTemp10-2014-exp (CANCELLED)>,\n",
       " <Task EXPORT_IMAGE: ZWE-ndvi-2014-exp (CANCELLED)>,\n",
       " <Task EXPORT_IMAGE: ZWE-evi-2014-exp (CANCELLED)>,\n",
       " <Task EXPORT_IMAGE: ZWE-tcg-2014-exp (CANCELLED)>,\n",
       " <Task EXPORT_IMAGE: ZWE-tcw-2014-exp (CANCELLED)>,\n",
       " <Task EXPORT_IMAGE: ZWE-tcb-2014-exp (CANCELLED)>,\n",
       " <Task EXPORT_IMAGE: ZWE-lsTemp11-2014-exp (CANCELLED)>,\n",
       " <Task EXPORT_IMAGE: ZWE-lsTemp10-2014-exp (CANCELLED)>,\n",
       " <Task EXPORT_IMAGE: ZWE-ndvi-2014-exp (CANCELLED)>,\n",
       " <Task EXPORT_IMAGE: ZWE-evi-2014-exp (CANCELLED)>,\n",
       " <Task EXPORT_IMAGE: ZWE-tcg-2014-exp (CANCELLED)>,\n",
       " <Task EXPORT_IMAGE: ZWE-tcw-2014-exp (CANCELLED)>,\n",
       " <Task EXPORT_IMAGE: ZWE-tcb-2014-exp (CANCELLED)>,\n",
       " <Task EXPORT_IMAGE: ZWE-lsTemp11-2014-exp (CANCELLED)>,\n",
       " <Task EXPORT_IMAGE: ZWE-lsTemp10-2014-exp (CANCELLED)>,\n",
       " <Task EXPORT_IMAGE: ZWE-ndvi-2014-exp (CANCELLED)>,\n",
       " <Task EXPORT_IMAGE: ZWE-evi-2014-exp (CANCELLED)>,\n",
       " <Task EXPORT_IMAGE: ZWE-tcg-2014-exp (CANCELLED)>,\n",
       " <Task EXPORT_IMAGE: ZWE-tcw-2014-exp (CANCELLED)>,\n",
       " <Task EXPORT_IMAGE: ZWE-tcb-2014-exp (CANCELLED)>,\n",
       " <Task EXPORT_IMAGE: ZWE-elev-exp (COMPLETED)>,\n",
       " <Task EXPORT_IMAGE: HTI-elev-exp (COMPLETED)>,\n",
       " <Task EXPORT_IMAGE: GTM-tcb-2013-exp (FAILED)>,\n",
       " <Task EXPORT_IMAGE: GTM-tcw-2013-exp (FAILED)>,\n",
       " <Task EXPORT_IMAGE: GTM-tcg-2013-exp (FAILED)>,\n",
       " <Task EXPORT_IMAGE: GTM-evi-2013-exp (FAILED)>,\n",
       " <Task EXPORT_IMAGE: GTM-ndvi-2013-exp (FAILED)>,\n",
       " <Task EXPORT_IMAGE: GTM-lsTemp11-2013-exp (FAILED)>,\n",
       " <Task EXPORT_IMAGE: GTM-chirps-2013-exp (COMPLETED)>,\n",
       " <Task EXPORT_IMAGE: GTM-tcb-2014-exp (COMPLETED)>,\n",
       " <Task EXPORT_IMAGE: GTM-tcw-2014-exp (COMPLETED)>,\n",
       " <Task EXPORT_IMAGE: GTM-tcg-2014-exp (COMPLETED)>,\n",
       " <Task EXPORT_IMAGE: GTM-evi-2014-exp (COMPLETED)>,\n",
       " <Task EXPORT_IMAGE: GTM-ndvi-2014-exp (COMPLETED)>,\n",
       " <Task EXPORT_IMAGE: GTM-lsTemp11-2014-exp (COMPLETED)>,\n",
       " <Task EXPORT_IMAGE: GTM-chirps-2014-exp (COMPLETED)>,\n",
       " <Task EXPORT_IMAGE: GTM-tcb-2015-exp (COMPLETED)>,\n",
       " <Task EXPORT_IMAGE: GTM-tcw-2015-exp (COMPLETED)>,\n",
       " <Task EXPORT_IMAGE: GTM-tcg-2015-exp (COMPLETED)>,\n",
       " <Task EXPORT_IMAGE: GTM-evi-2015-exp (COMPLETED)>,\n",
       " <Task EXPORT_IMAGE: GTM-ndvi-2015-exp (COMPLETED)>,\n",
       " <Task EXPORT_IMAGE: GTM-lsTemp11-2015-exp (COMPLETED)>,\n",
       " <Task EXPORT_IMAGE: GTM-chirps-2015-exp (COMPLETED)>,\n",
       " <Task EXPORT_IMAGE: GTM-tcb-2016-exp (COMPLETED)>,\n",
       " <Task EXPORT_IMAGE: GTM-tcw-2016-exp (COMPLETED)>,\n",
       " <Task EXPORT_IMAGE: GTM-tcg-2016-exp (COMPLETED)>,\n",
       " <Task EXPORT_IMAGE: GTM-evi-2016-exp (COMPLETED)>,\n",
       " <Task EXPORT_IMAGE: GTM-ndvi-2016-exp (COMPLETED)>,\n",
       " <Task EXPORT_IMAGE: GTM-bTemp10-2016-exp (COMPLETED)>,\n",
       " <Task EXPORT_IMAGE: GTM-lsTemp11-2016-exp (COMPLETED)>,\n",
       " <Task EXPORT_IMAGE: GTM-chirps-2016-exp (COMPLETED)>,\n",
       " <Task EXPORT_IMAGE: GTM-elev-exp (COMPLETED)>,\n",
       " <Task EXPORT_IMAGE: MMR-tcg-2015-exp (COMPLETED)>,\n",
       " <Task EXPORT_IMAGE: MMR-tcw-2015-exp (COMPLETED)>,\n",
       " <Task EXPORT_IMAGE: MMR-evi-2015-exp (COMPLETED)>,\n",
       " <Task EXPORT_IMAGE: MMR-bTemp10-2015-exp (COMPLETED)>,\n",
       " <Task EXPORT_IMAGE: MMR-ndvi-2015-exp (COMPLETED)>,\n",
       " <Task EXPORT_IMAGE: MMR-tcb-2015-exp (COMPLETED)>,\n",
       " <Task EXPORT_IMAGE: MMR-lsTemp11-2015-exp (COMPLETED)>,\n",
       " <Task EXPORT_IMAGE: MMR-tcb-2016-exp (COMPLETED)>,\n",
       " <Task EXPORT_IMAGE: MMR-chirps-2015-exp (COMPLETED)>,\n",
       " <Task EXPORT_IMAGE: MMR-tcw-2016-exp (COMPLETED)>,\n",
       " <Task EXPORT_IMAGE: MMR-ndvi-2016-exp (COMPLETED)>,\n",
       " <Task EXPORT_IMAGE: MMR-evi-2016-exp (COMPLETED)>,\n",
       " <Task EXPORT_IMAGE: MMR-tcg-2016-exp (COMPLETED)>,\n",
       " <Task EXPORT_IMAGE: MMR-bTemp10-2016-exp (COMPLETED)>,\n",
       " <Task EXPORT_IMAGE: MMR-chirps-2016-exp (COMPLETED)>,\n",
       " <Task EXPORT_IMAGE: MMR-lsTemp11-2016-exp (COMPLETED)>,\n",
       " <Task EXPORT_IMAGE: MMR-elev-exp (COMPLETED)>,\n",
       " <Task EXPORT_IMAGE: HTI-tcb-2014-exp (COMPLETED)>,\n",
       " <Task EXPORT_IMAGE: HTI-tcw-2014-exp (COMPLETED)>,\n",
       " <Task EXPORT_IMAGE: HTI-tcg-2014-exp (COMPLETED)>,\n",
       " <Task EXPORT_IMAGE: HTI-evi-2014-exp (COMPLETED)>,\n",
       " <Task EXPORT_IMAGE: HTI-ndvi-2014-exp (COMPLETED)>,\n",
       " <Task EXPORT_IMAGE: HTI-lsTemp10-2014-exp (COMPLETED)>,\n",
       " <Task EXPORT_IMAGE: HTI-lsTemp11-2014-exp (COMPLETED)>,\n",
       " <Task EXPORT_IMAGE: HTI-chirps-2014-exp (COMPLETED)>,\n",
       " <Task EXPORT_IMAGE: HTI-tcb-2015-exp (COMPLETED)>,\n",
       " <Task EXPORT_IMAGE: HTI-tcw-2015-exp (COMPLETED)>,\n",
       " <Task EXPORT_IMAGE: HTI-tcg-2015-exp (COMPLETED)>,\n",
       " <Task EXPORT_IMAGE: HTI-evi-2015-exp (COMPLETED)>,\n",
       " <Task EXPORT_IMAGE: HTI-ndvi-2015-exp (COMPLETED)>,\n",
       " <Task EXPORT_IMAGE: HTI-bTemp10-2015-exp (CANCELLED)>,\n",
       " <Task EXPORT_IMAGE: HTI-bTemp11-2015-exp (CANCELLED)>,\n",
       " <Task EXPORT_IMAGE: HTI-lsTemp10-2015-exp (COMPLETED)>,\n",
       " <Task EXPORT_IMAGE: HTI-lsTemp11-2015-exp (COMPLETED)>,\n",
       " <Task EXPORT_IMAGE: HTI-chirps-2015-exp (COMPLETED)>,\n",
       " <Task EXPORT_IMAGE: HTI-tcb-2016-exp (COMPLETED)>,\n",
       " <Task EXPORT_IMAGE: HTI-tcw-2016-exp (COMPLETED)>,\n",
       " <Task EXPORT_IMAGE: HTI-tcg-2016-exp (COMPLETED)>,\n",
       " <Task EXPORT_IMAGE: HTI-evi-2016-exp (COMPLETED)>,\n",
       " <Task EXPORT_IMAGE: HTI-bTemp10-2016-exp (CANCELLED)>,\n",
       " <Task EXPORT_IMAGE: HTI-ndvi-2016-exp (COMPLETED)>,\n",
       " <Task EXPORT_IMAGE: HTI-lsTemp10-2016-exp (COMPLETED)>,\n",
       " <Task EXPORT_IMAGE: HTI-lsTemp11-2016-exp (COMPLETED)>,\n",
       " <Task EXPORT_IMAGE: HTI-chirps-2016-exp (COMPLETED)>,\n",
       " <Task EXPORT_IMAGE: HTI-elev-exp (COMPLETED)>,\n",
       " <Task EXPORT_IMAGE: SWZ-elev-exp (CANCELLED)>,\n",
       " <Task EXPORT_IMAGE: SWZ-chirps-exp (CANCELLED)>,\n",
       " <Task EXPORT_IMAGE: SWZ-lsTemp11-exp (CANCELLED)>,\n",
       " <Task EXPORT_IMAGE: SWZ-lsTemp10-exp (CANCELLED)>,\n",
       " <Task EXPORT_IMAGE: SWZ-ndvi-exp (CANCELLED)>,\n",
       " <Task EXPORT_IMAGE: SWZ-evi-exp (CANCELLED)>,\n",
       " <Task EXPORT_IMAGE: SWZ-tcg-exp (CANCELLED)>,\n",
       " <Task EXPORT_IMAGE: SWZ-tcw-exp (CANCELLED)>,\n",
       " <Task EXPORT_IMAGE: SWZ-tcb-exp (COMPLETED)>,\n",
       " <Task EXPORT_IMAGE: HTI-tcb-exp (COMPLETED)>,\n",
       " <Task EXPORT_IMAGE: HTI-tcg-exp (COMPLETED)>,\n",
       " <Task EXPORT_IMAGE: HTI-tcw-exp (COMPLETED)>,\n",
       " <Task EXPORT_IMAGE: HTI-evi-exp (COMPLETED)>,\n",
       " <Task EXPORT_IMAGE: HTI-ndvi-exp (COMPLETED)>,\n",
       " <Task EXPORT_IMAGE: HTI-lsTemp10-exp (COMPLETED)>,\n",
       " <Task EXPORT_IMAGE: HTI-lsTemp11-exp (COMPLETED)>,\n",
       " <Task EXPORT_IMAGE: HTI-chirps-exp (COMPLETED)>,\n",
       " <Task EXPORT_IMAGE: HTI-elev-exp (COMPLETED)>,\n",
       " <Task EXPORT_IMAGE: HTI-chirps-exp (CANCELLED)>,\n",
       " <Task EXPORT_IMAGE: HTI-elev-exp (CANCELLED)>,\n",
       " <Task EXPORT_IMAGE: hydroshedsElev (COMPLETED)>,\n",
       " <Task EXPORT_IMAGE: chirpsMean (COMPLETED)>]"
      ]
     },
     "execution_count": 271,
     "metadata": {},
     "output_type": "execute_result"
    }
   ],
   "source": [
    "ts"
   ]
  },
  {
   "cell_type": "markdown",
   "metadata": {},
   "source": [
    "When the tasks have completed the files should be present in the specified cloud storage bucket. You can now download them directly from the web interface at https://console.cloud.google.com/storage/browser/BUCKET-NAME/ \n",
    "\n",
    "Or you can use the gsutil command line tools (much more convenient if there's lots). e.g.\n",
    "\n",
    "`gsutil -m mv gs://BUCKET-NAME/ZWE*.tif E:\\My\\Local\\Folder\\Path`\n",
    "\n",
    "Don't forget to delete them from the bucket after downloading (if not using mv) to avoid possible storage charges.\n",
    "\n",
    "If you need to cancel a task after start() has been called on it (whether it's running yet or not) then just do this:"
   ]
  },
  {
   "cell_type": "code",
   "execution_count": 251,
   "metadata": {
    "collapsed": false
   },
   "outputs": [
    {
     "data": {
      "text/plain": [
       "[]"
      ]
     },
     "execution_count": 251,
     "metadata": {},
     "output_type": "execute_result"
    }
   ],
   "source": [
    "[t.cancel() for t in ts if t.active()]"
   ]
  }
 ],
 "metadata": {
  "kernelspec": {
   "display_name": "Python 2",
   "language": "python",
   "name": "python2"
  },
  "language_info": {
   "codemirror_mode": {
    "name": "ipython",
    "version": 2
   },
   "file_extension": ".py",
   "mimetype": "text/x-python",
   "name": "python",
   "nbconvert_exporter": "python",
   "pygments_lexer": "ipython2",
   "version": "2.7.5"
  }
 },
 "nbformat": 4,
 "nbformat_minor": 2
}
